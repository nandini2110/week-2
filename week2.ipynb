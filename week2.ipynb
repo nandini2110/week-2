{
  "cells": [
    {
      "metadata": {
        "collapsed": true,
        "trusted": false
      },
      "cell_type": "markdown",
      "source": "This Dataset comprises of information related to :\n* Top Spotify Tracks of 2017 and 2018\n* Number of Tracks per Artist in Spotify Top 100 List (2017)\n* Number of Tracks per Artist in Spotify Top 100 List (2018)\n* Number of Tracks per Artist in Spotify Top 100 List (2017+2018)\n\n\nI'll be examining the audio features of the tracks in Spotify's Top Songs of 2017 playlist. \nAt the end of each year, Spotify compiles a playlist of the songs streamed most often over the course of that year.  The question is: What do these top songs have in common? Why do people like them?\n\nOriginal Data Source: The audio features for each song were extracted using the Spotify Web API and the spotipy Python library. Credit goes to Spotify for calculating the audio feature values.\n\nData Description: There is one .csv file in the dataset. (featuresdf.csv) This file includes:\n\nSpotify URI for the song\nName of the song\nArtist(s) of the song\nAudio features for the song (such as danceability, tempo, key etc.)\nA more detailed explanation of the audio features can be found in the Metadata tab.\n\n\nExploring the Data:\n* mean value of audio features\n* mean value for danceability\n* mean value for energy\n* mean value for loudness\n* mean value and distplot for instrumentalness feature\n* mean value for tempo feature\n* mean value for duration feature"
    },
    {
      "metadata": {
        "trusted": true
      },
      "cell_type": "code",
      "source": "import numpy as np \nimport pandas as pd \nimport os\nfrom datetime import date, datetime, timedelta\nfrom IPython.core import display as ICD\nimport plotly.plotly as py\nfrom plotly.offline import init_notebook_mode, iplot\nimport plotly.graph_objs as go\ninit_notebook_mode(connected=True)\nimport sys\nimport warnings\nimport matplotlib.pyplot as plt\nimport seaborn as sns\n%matplotlib inline\ntop2017=pd.read_csv('top2017.csv')\nmusic=pd.read_csv('featuresdf.csv')\ntop2018=pd.read_csv('top2018.csv')",
      "execution_count": 35,
      "outputs": [
        {
          "output_type": "display_data",
          "data": {
            "text/html": "        <script type=\"text/javascript\">\n        window.PlotlyConfig = {MathJaxConfig: 'local'};\n        if (window.MathJax) {MathJax.Hub.Config({SVG: {font: \"STIX-Web\"}});}\n        if (typeof require !== 'undefined') {\n        require.undef(\"plotly\");\n        requirejs.config({\n            paths: {\n                'plotly': ['https://cdn.plot.ly/plotly-latest.min']\n            }\n        });\n        require(['plotly'], function(Plotly) {\n            window._Plotly = Plotly;\n        });\n        }\n        </script>\n        "
          },
          "metadata": {}
        }
      ]
    },
    {
      "metadata": {
        "trusted": true
      },
      "cell_type": "code",
      "source": "print('Top 100 Spotify Tracks in 2018: ')\npd.set_option('display.max_rows', 100)\ntop2018[['artists','name']]\n",
      "execution_count": 22,
      "outputs": [
        {
          "output_type": "stream",
          "text": "Top 100 Spotify Tracks in 2018: \n",
          "name": "stdout"
        },
        {
          "output_type": "execute_result",
          "execution_count": 22,
          "data": {
            "text/html": "<div>\n<style scoped>\n    .dataframe tbody tr th:only-of-type {\n        vertical-align: middle;\n    }\n\n    .dataframe tbody tr th {\n        vertical-align: top;\n    }\n\n    .dataframe thead th {\n        text-align: right;\n    }\n</style>\n<table border=\"1\" class=\"dataframe\">\n  <thead>\n    <tr style=\"text-align: right;\">\n      <th></th>\n      <th>artists</th>\n      <th>name</th>\n    </tr>\n  </thead>\n  <tbody>\n    <tr>\n      <th>0</th>\n      <td>Drake</td>\n      <td>God's Plan</td>\n    </tr>\n    <tr>\n      <th>1</th>\n      <td>XXXTENTACION</td>\n      <td>SAD!</td>\n    </tr>\n    <tr>\n      <th>2</th>\n      <td>Post Malone</td>\n      <td>rockstar (feat. 21 Savage)</td>\n    </tr>\n    <tr>\n      <th>3</th>\n      <td>Post Malone</td>\n      <td>Psycho (feat. Ty Dolla $ign)</td>\n    </tr>\n    <tr>\n      <th>4</th>\n      <td>Drake</td>\n      <td>In My Feelings</td>\n    </tr>\n    <tr>\n      <th>5</th>\n      <td>Post Malone</td>\n      <td>Better Now</td>\n    </tr>\n    <tr>\n      <th>6</th>\n      <td>Cardi B</td>\n      <td>I Like It</td>\n    </tr>\n    <tr>\n      <th>7</th>\n      <td>Calvin Harris</td>\n      <td>One Kiss (with Dua Lipa)</td>\n    </tr>\n    <tr>\n      <th>8</th>\n      <td>Dua Lipa</td>\n      <td>IDGAF</td>\n    </tr>\n    <tr>\n      <th>9</th>\n      <td>Marshmello</td>\n      <td>FRIENDS</td>\n    </tr>\n    <tr>\n      <th>10</th>\n      <td>Camila Cabello</td>\n      <td>Havana</td>\n    </tr>\n    <tr>\n      <th>11</th>\n      <td>Juice WRLD</td>\n      <td>Lucid Dreams</td>\n    </tr>\n    <tr>\n      <th>12</th>\n      <td>Drake</td>\n      <td>Nice For What</td>\n    </tr>\n    <tr>\n      <th>13</th>\n      <td>Maroon 5</td>\n      <td>Girls Like You (feat. Cardi B)</td>\n    </tr>\n    <tr>\n      <th>14</th>\n      <td>Zedd</td>\n      <td>The Middle</td>\n    </tr>\n    <tr>\n      <th>15</th>\n      <td>Kendrick Lamar</td>\n      <td>All The Stars (with SZA)</td>\n    </tr>\n    <tr>\n      <th>16</th>\n      <td>Ariana Grande</td>\n      <td>no tears left to cry</td>\n    </tr>\n    <tr>\n      <th>17</th>\n      <td>Nicky Jam</td>\n      <td>X</td>\n    </tr>\n    <tr>\n      <th>18</th>\n      <td>XXXTENTACION</td>\n      <td>Moonlight</td>\n    </tr>\n    <tr>\n      <th>19</th>\n      <td>BlocBoy JB</td>\n      <td>Look Alive (feat. Drake)</td>\n    </tr>\n    <tr>\n      <th>20</th>\n      <td>Rudimental</td>\n      <td>These Days (feat. Jess Glynne, Macklemore &amp; Da...</td>\n    </tr>\n    <tr>\n      <th>21</th>\n      <td>Nio Garcia</td>\n      <td>Te Bot? - Remix</td>\n    </tr>\n    <tr>\n      <th>22</th>\n      <td>Bazzi</td>\n      <td>Mine</td>\n    </tr>\n    <tr>\n      <th>23</th>\n      <td>5 Seconds of Summer</td>\n      <td>Youngblood</td>\n    </tr>\n    <tr>\n      <th>24</th>\n      <td>Dua Lipa</td>\n      <td>New Rules</td>\n    </tr>\n    <tr>\n      <th>25</th>\n      <td>Ed Sheeran</td>\n      <td>Shape of You</td>\n    </tr>\n    <tr>\n      <th>26</th>\n      <td>Khalid</td>\n      <td>Love Lies (with Normani)</td>\n    </tr>\n    <tr>\n      <th>27</th>\n      <td>Bebe Rexha</td>\n      <td>Meant to Be (feat. Florida Georgia Line)</td>\n    </tr>\n    <tr>\n      <th>28</th>\n      <td>XXXTENTACION</td>\n      <td>Jocelyn Flores</td>\n    </tr>\n    <tr>\n      <th>29</th>\n      <td>Ed Sheeran</td>\n      <td>Perfect</td>\n    </tr>\n    <tr>\n      <th>30</th>\n      <td>Tyga</td>\n      <td>Taste (feat. Offset)</td>\n    </tr>\n    <tr>\n      <th>31</th>\n      <td>Clean Bandit</td>\n      <td>Solo (feat. Demi Lovato)</td>\n    </tr>\n    <tr>\n      <th>32</th>\n      <td>Post Malone</td>\n      <td>I Fall Apart</td>\n    </tr>\n    <tr>\n      <th>33</th>\n      <td>Dennis Lloyd</td>\n      <td>Nevermind</td>\n    </tr>\n    <tr>\n      <th>34</th>\n      <td>Luis Fonsi</td>\n      <td>?chame La Culpa</td>\n    </tr>\n    <tr>\n      <th>35</th>\n      <td>benny blanco</td>\n      <td>Eastside (with Halsey &amp; Khalid)</td>\n    </tr>\n    <tr>\n      <th>36</th>\n      <td>Camila Cabello</td>\n      <td>Never Be the Same</td>\n    </tr>\n    <tr>\n      <th>37</th>\n      <td>Selena Gomez</td>\n      <td>Wolves</td>\n    </tr>\n    <tr>\n      <th>38</th>\n      <td>XXXTENTACION</td>\n      <td>changes</td>\n    </tr>\n    <tr>\n      <th>39</th>\n      <td>Dynoro</td>\n      <td>In My Mind</td>\n    </tr>\n    <tr>\n      <th>40</th>\n      <td>Eminem</td>\n      <td>River (feat. Ed Sheeran)</td>\n    </tr>\n    <tr>\n      <th>41</th>\n      <td>Daddy Yankee</td>\n      <td>Dura</td>\n    </tr>\n    <tr>\n      <th>42</th>\n      <td>Travis Scott</td>\n      <td>SICKO MODE</td>\n    </tr>\n    <tr>\n      <th>43</th>\n      <td>Imagine Dragons</td>\n      <td>Thunder</td>\n    </tr>\n    <tr>\n      <th>44</th>\n      <td>Reik</td>\n      <td>Me Niego</td>\n    </tr>\n    <tr>\n      <th>45</th>\n      <td>Ti?sto</td>\n      <td>Jackie Chan</td>\n    </tr>\n    <tr>\n      <th>46</th>\n      <td>Bruno Mars</td>\n      <td>Finesse (Remix) [feat. Cardi B]</td>\n    </tr>\n    <tr>\n      <th>47</th>\n      <td>Selena Gomez</td>\n      <td>Back To You - From 13 Reasons Why ? Season 2 S...</td>\n    </tr>\n    <tr>\n      <th>48</th>\n      <td>NF</td>\n      <td>Let You Down</td>\n    </tr>\n    <tr>\n      <th>49</th>\n      <td>The Weeknd</td>\n      <td>Call Out My Name</td>\n    </tr>\n    <tr>\n      <th>50</th>\n      <td>Offset</td>\n      <td>Ric Flair Drip (&amp; Metro Boomin)</td>\n    </tr>\n    <tr>\n      <th>51</th>\n      <td>Marshmello</td>\n      <td>Happier</td>\n    </tr>\n    <tr>\n      <th>52</th>\n      <td>Sam Smith</td>\n      <td>Too Good At Goodbyes</td>\n    </tr>\n    <tr>\n      <th>53</th>\n      <td>Lil Dicky</td>\n      <td>Freaky Friday (feat. Chris Brown)</td>\n    </tr>\n    <tr>\n      <th>54</th>\n      <td>Imagine Dragons</td>\n      <td>Believer</td>\n    </tr>\n    <tr>\n      <th>55</th>\n      <td>6ix9ine</td>\n      <td>FEFE (feat. Nicki Minaj &amp; Murda Beatz)</td>\n    </tr>\n    <tr>\n      <th>56</th>\n      <td>Jonas Blue</td>\n      <td>Rise</td>\n    </tr>\n    <tr>\n      <th>57</th>\n      <td>Loud Luxury</td>\n      <td>Body (feat. brando)</td>\n    </tr>\n    <tr>\n      <th>58</th>\n      <td>Lil Uzi Vert</td>\n      <td>XO TOUR Llif3</td>\n    </tr>\n    <tr>\n      <th>59</th>\n      <td>Becky G</td>\n      <td>Sin Pijama</td>\n    </tr>\n    <tr>\n      <th>60</th>\n      <td>Anne-Marie</td>\n      <td>2002</td>\n    </tr>\n    <tr>\n      <th>61</th>\n      <td>Drake</td>\n      <td>Nonstop</td>\n    </tr>\n    <tr>\n      <th>62</th>\n      <td>XXXTENTACION</td>\n      <td>Fuck Love (feat. Trippie Redd)</td>\n    </tr>\n    <tr>\n      <th>63</th>\n      <td>Shawn Mendes</td>\n      <td>In My Blood</td>\n    </tr>\n    <tr>\n      <th>64</th>\n      <td>Marshmello</td>\n      <td>Silence</td>\n    </tr>\n    <tr>\n      <th>65</th>\n      <td>Ariana Grande</td>\n      <td>God is a woman</td>\n    </tr>\n    <tr>\n      <th>66</th>\n      <td>Piso 21</td>\n      <td>D?jala que vuelva (feat. Manuel Turizo)</td>\n    </tr>\n    <tr>\n      <th>67</th>\n      <td>David Guetta</td>\n      <td>Flames</td>\n    </tr>\n    <tr>\n      <th>68</th>\n      <td>Maroon 5</td>\n      <td>What Lovers Do</td>\n    </tr>\n    <tr>\n      <th>69</th>\n      <td>DJ Snake</td>\n      <td>Taki Taki (with Selena Gomez, Ozuna &amp; Cardi B)</td>\n    </tr>\n    <tr>\n      <th>70</th>\n      <td>Hailee Steinfeld</td>\n      <td>Let Me Go (with Alesso, Florida Georgia Line &amp;...</td>\n    </tr>\n    <tr>\n      <th>71</th>\n      <td>Portugal. The Man</td>\n      <td>Feel It Still</td>\n    </tr>\n    <tr>\n      <th>72</th>\n      <td>The Weeknd</td>\n      <td>Pray For Me (with Kendrick Lamar)</td>\n    </tr>\n    <tr>\n      <th>73</th>\n      <td>Migos</td>\n      <td>Walk It Talk It</td>\n    </tr>\n    <tr>\n      <th>74</th>\n      <td>G-Eazy</td>\n      <td>Him &amp; I (with Halsey)</td>\n    </tr>\n    <tr>\n      <th>75</th>\n      <td>Post Malone</td>\n      <td>Candy Paint</td>\n    </tr>\n    <tr>\n      <th>76</th>\n      <td>Post Malone</td>\n      <td>Congratulations</td>\n    </tr>\n    <tr>\n      <th>77</th>\n      <td>Sofia Reyes</td>\n      <td>1, 2, 3 (feat. Jason Derulo &amp; De La Ghetto)</td>\n    </tr>\n    <tr>\n      <th>78</th>\n      <td>Natti Natasha</td>\n      <td>Criminal</td>\n    </tr>\n    <tr>\n      <th>79</th>\n      <td>Rich The Kid</td>\n      <td>Plug Walk</td>\n    </tr>\n    <tr>\n      <th>80</th>\n      <td>Billie Eilish</td>\n      <td>lovely (with Khalid)</td>\n    </tr>\n    <tr>\n      <th>81</th>\n      <td>Migos</td>\n      <td>Stir Fry</td>\n    </tr>\n    <tr>\n      <th>82</th>\n      <td>Kendrick Lamar</td>\n      <td>HUMBLE.</td>\n    </tr>\n    <tr>\n      <th>83</th>\n      <td>Ozuna</td>\n      <td>Vaina Loca</td>\n    </tr>\n    <tr>\n      <th>84</th>\n      <td>Ed Sheeran</td>\n      <td>Perfect Duet (Ed Sheeran &amp; Beyonc?)</td>\n    </tr>\n    <tr>\n      <th>85</th>\n      <td>Maluma</td>\n      <td>Coraz?n (feat. Nego do Borel)</td>\n    </tr>\n    <tr>\n      <th>86</th>\n      <td>Khalid</td>\n      <td>Young Dumb &amp; Broke</td>\n    </tr>\n    <tr>\n      <th>87</th>\n      <td>Ozuna</td>\n      <td>S?guelo Bailando</td>\n    </tr>\n    <tr>\n      <th>88</th>\n      <td>Anitta</td>\n      <td>Downtown</td>\n    </tr>\n    <tr>\n      <th>89</th>\n      <td>Wolfine</td>\n      <td>Bella</td>\n    </tr>\n    <tr>\n      <th>90</th>\n      <td>Calvin Harris</td>\n      <td>Promises (with Sam Smith)</td>\n    </tr>\n    <tr>\n      <th>91</th>\n      <td>Lil Baby</td>\n      <td>Yes Indeed</td>\n    </tr>\n    <tr>\n      <th>92</th>\n      <td>Lauv</td>\n      <td>I Like Me Better</td>\n    </tr>\n    <tr>\n      <th>93</th>\n      <td>Keala Settle</td>\n      <td>This Is Me</td>\n    </tr>\n    <tr>\n      <th>94</th>\n      <td>XXXTENTACION</td>\n      <td>Everybody Dies In Their Nightmares</td>\n    </tr>\n    <tr>\n      <th>95</th>\n      <td>Zac Efron</td>\n      <td>Rewrite The Stars</td>\n    </tr>\n    <tr>\n      <th>96</th>\n      <td>Clean Bandit</td>\n      <td>I Miss You (feat. Julia Michaels)</td>\n    </tr>\n    <tr>\n      <th>97</th>\n      <td>DJ Khaled</td>\n      <td>No Brainer</td>\n    </tr>\n    <tr>\n      <th>98</th>\n      <td>ZAYN</td>\n      <td>Dusk Till Dawn - Radio Edit</td>\n    </tr>\n    <tr>\n      <th>99</th>\n      <td>Dean Lewis</td>\n      <td>Be Alright</td>\n    </tr>\n  </tbody>\n</table>\n</div>",
            "text/plain": "                artists                                               name\n0                 Drake                                         God's Plan\n1          XXXTENTACION                                               SAD!\n2           Post Malone                         rockstar (feat. 21 Savage)\n3           Post Malone                       Psycho (feat. Ty Dolla $ign)\n4                 Drake                                     In My Feelings\n5           Post Malone                                         Better Now\n6               Cardi B                                          I Like It\n7         Calvin Harris                           One Kiss (with Dua Lipa)\n8              Dua Lipa                                              IDGAF\n9            Marshmello                                            FRIENDS\n10       Camila Cabello                                             Havana\n11           Juice WRLD                                       Lucid Dreams\n12                Drake                                      Nice For What\n13             Maroon 5                     Girls Like You (feat. Cardi B)\n14                 Zedd                                         The Middle\n15       Kendrick Lamar                           All The Stars (with SZA)\n16        Ariana Grande                               no tears left to cry\n17            Nicky Jam                                                  X\n18         XXXTENTACION                                          Moonlight\n19           BlocBoy JB                           Look Alive (feat. Drake)\n20           Rudimental  These Days (feat. Jess Glynne, Macklemore & Da...\n21           Nio Garcia                                    Te Bot? - Remix\n22                Bazzi                                               Mine\n23  5 Seconds of Summer                                         Youngblood\n24             Dua Lipa                                          New Rules\n25           Ed Sheeran                                       Shape of You\n26               Khalid                           Love Lies (with Normani)\n27           Bebe Rexha           Meant to Be (feat. Florida Georgia Line)\n28         XXXTENTACION                                     Jocelyn Flores\n29           Ed Sheeran                                            Perfect\n30                 Tyga                               Taste (feat. Offset)\n31         Clean Bandit                           Solo (feat. Demi Lovato)\n32          Post Malone                                       I Fall Apart\n33         Dennis Lloyd                                          Nevermind\n34           Luis Fonsi                                    ?chame La Culpa\n35         benny blanco                    Eastside (with Halsey & Khalid)\n36       Camila Cabello                                  Never Be the Same\n37         Selena Gomez                                             Wolves\n38         XXXTENTACION                                            changes\n39               Dynoro                                         In My Mind\n40               Eminem                           River (feat. Ed Sheeran)\n41         Daddy Yankee                                               Dura\n42         Travis Scott                                         SICKO MODE\n43      Imagine Dragons                                            Thunder\n44                 Reik                                           Me Niego\n45               Ti?sto                                        Jackie Chan\n46           Bruno Mars                    Finesse (Remix) [feat. Cardi B]\n47         Selena Gomez  Back To You - From 13 Reasons Why ? Season 2 S...\n48                   NF                                       Let You Down\n49           The Weeknd                                   Call Out My Name\n50               Offset                    Ric Flair Drip (& Metro Boomin)\n51           Marshmello                                            Happier\n52            Sam Smith                               Too Good At Goodbyes\n53            Lil Dicky                  Freaky Friday (feat. Chris Brown)\n54      Imagine Dragons                                           Believer\n55              6ix9ine             FEFE (feat. Nicki Minaj & Murda Beatz)\n56           Jonas Blue                                               Rise\n57          Loud Luxury                                Body (feat. brando)\n58         Lil Uzi Vert                                      XO TOUR Llif3\n59              Becky G                                         Sin Pijama\n60           Anne-Marie                                               2002\n61                Drake                                            Nonstop\n62         XXXTENTACION                     Fuck Love (feat. Trippie Redd)\n63         Shawn Mendes                                        In My Blood\n64           Marshmello                                            Silence\n65        Ariana Grande                                     God is a woman\n66              Piso 21            D?jala que vuelva (feat. Manuel Turizo)\n67         David Guetta                                             Flames\n68             Maroon 5                                     What Lovers Do\n69             DJ Snake     Taki Taki (with Selena Gomez, Ozuna & Cardi B)\n70     Hailee Steinfeld  Let Me Go (with Alesso, Florida Georgia Line &...\n71    Portugal. The Man                                      Feel It Still\n72           The Weeknd                  Pray For Me (with Kendrick Lamar)\n73                Migos                                    Walk It Talk It\n74               G-Eazy                              Him & I (with Halsey)\n75          Post Malone                                        Candy Paint\n76          Post Malone                                    Congratulations\n77          Sofia Reyes        1, 2, 3 (feat. Jason Derulo & De La Ghetto)\n78        Natti Natasha                                           Criminal\n79         Rich The Kid                                          Plug Walk\n80        Billie Eilish                               lovely (with Khalid)\n81                Migos                                           Stir Fry\n82       Kendrick Lamar                                            HUMBLE.\n83                Ozuna                                         Vaina Loca\n84           Ed Sheeran                Perfect Duet (Ed Sheeran & Beyonc?)\n85               Maluma                      Coraz?n (feat. Nego do Borel)\n86               Khalid                                 Young Dumb & Broke\n87                Ozuna                                   S?guelo Bailando\n88               Anitta                                           Downtown\n89              Wolfine                                              Bella\n90        Calvin Harris                          Promises (with Sam Smith)\n91             Lil Baby                                         Yes Indeed\n92                 Lauv                                   I Like Me Better\n93         Keala Settle                                         This Is Me\n94         XXXTENTACION                 Everybody Dies In Their Nightmares\n95            Zac Efron                                  Rewrite The Stars\n96         Clean Bandit                  I Miss You (feat. Julia Michaels)\n97            DJ Khaled                                         No Brainer\n98                 ZAYN                        Dusk Till Dawn - Radio Edit\n99           Dean Lewis                                         Be Alright"
          },
          "metadata": {}
        }
      ]
    },
    {
      "metadata": {
        "trusted": true
      },
      "cell_type": "code",
      "source": "artistCounts = top2018['artists'].value_counts()\nartistCountsDf = pd.DataFrame(artistCounts)\ntrace1 = go.Bar(\n                x = artistCountsDf.index,\n                y = artistCountsDf.artists,\n                name = \"Top Spotify Tracks 2018\",\n                marker = dict(color = 'rgba(0, 0, 255, 0.8)',\n                             line=dict(color='rgb(0,0,0)',width=1.5)),\n                text = artistCountsDf.index)\ndata = [trace1]\n\nlayout = go.Layout(barmode = \"group\",title='Number of Tracks per Artist in Spotify Top 100 List (2018)', yaxis= dict(title= 'Number of Tracks per Artist'))\nfig = go.Figure(data = data, layout = layout)\niplot(fig)\n",
      "execution_count": 20,
      "outputs": [
        {
          "output_type": "display_data",
          "data": {
            "text/html": "<div>\n        \n        \n            <div id=\"d9587d0d-b587-44f4-a694-315cb61afb25\" class=\"plotly-graph-div\" style=\"height:525px; width:100%;\"></div>\n            <script type=\"text/javascript\">\n                require([\"plotly\"], function(Plotly) {\n                    window.PLOTLYENV=window.PLOTLYENV || {};\n                    window.PLOTLYENV.BASE_URL='https://plot.ly';\n                    \n                if (document.getElementById(\"d9587d0d-b587-44f4-a694-315cb61afb25\")) {\n                    Plotly.newPlot(\n                        'd9587d0d-b587-44f4-a694-315cb61afb25',\n                        [{\"marker\": {\"color\": \"rgba(0, 0, 255, 0.8)\", \"line\": {\"color\": \"rgb(0,0,0)\", \"width\": 1.5}}, \"name\": \"Top Spotify Tracks 2018\", \"text\": [\"Post Malone\", \"XXXTENTACION\", \"Drake\", \"Ed Sheeran\", \"Marshmello\", \"Kendrick Lamar\", \"Imagine Dragons\", \"Calvin Harris\", \"Migos\", \"Camila Cabello\", \"Maroon 5\", \"Selena Gomez\", \"Ozuna\", \"Clean Bandit\", \"Khalid\", \"The Weeknd\", \"Dua Lipa\", \"Ariana Grande\", \"Dynoro\", \"Sam Smith\", \"6ix9ine\", \"Lil Baby\", \"Zedd\", \"Bebe Rexha\", \"David Guetta\", \"Juice WRLD\", \"Hailee Steinfeld\", \"Lil Dicky\", \"Sofia Reyes\", \"benny blanco\", \"Rudimental\", \"Nicky Jam\", \"Keala Settle\", \"BlocBoy JB\", \"Piso 21\", \"Nio Garcia\", \"Lauv\", \"DJ Snake\", \"Eminem\", \"NF\", \"Tyga\", \"Wolfine\", \"Becky G\", \"Cardi B\", \"Loud Luxury\", \"Natti Natasha\", \"Maluma\", \"Portugal. The Man\", \"Daddy Yankee\", \"Anne-Marie\", \"Offset\", \"ZAYN\", \"Billie Eilish\", \"5 Seconds of Summer\", \"Travis Scott\", \"Rich The Kid\", \"Anitta\", \"G-Eazy\", \"Shawn Mendes\", \"Bazzi\", \"Dean Lewis\", \"Lil Uzi Vert\", \"Zac Efron\", \"Reik\", \"Bruno Mars\", \"Dennis Lloyd\", \"Ti?sto\", \"Luis Fonsi\", \"DJ Khaled\", \"Jonas Blue\"], \"type\": \"bar\", \"uid\": \"b5ffa263-8d25-43a9-8f6f-92cf3607f3ac\", \"x\": [\"Post Malone\", \"XXXTENTACION\", \"Drake\", \"Ed Sheeran\", \"Marshmello\", \"Kendrick Lamar\", \"Imagine Dragons\", \"Calvin Harris\", \"Migos\", \"Camila Cabello\", \"Maroon 5\", \"Selena Gomez\", \"Ozuna\", \"Clean Bandit\", \"Khalid\", \"The Weeknd\", \"Dua Lipa\", \"Ariana Grande\", \"Dynoro\", \"Sam Smith\", \"6ix9ine\", \"Lil Baby\", \"Zedd\", \"Bebe Rexha\", \"David Guetta\", \"Juice WRLD\", \"Hailee Steinfeld\", \"Lil Dicky\", \"Sofia Reyes\", \"benny blanco\", \"Rudimental\", \"Nicky Jam\", \"Keala Settle\", \"BlocBoy JB\", \"Piso 21\", \"Nio Garcia\", \"Lauv\", \"DJ Snake\", \"Eminem\", \"NF\", \"Tyga\", \"Wolfine\", \"Becky G\", \"Cardi B\", \"Loud Luxury\", \"Natti Natasha\", \"Maluma\", \"Portugal. The Man\", \"Daddy Yankee\", \"Anne-Marie\", \"Offset\", \"ZAYN\", \"Billie Eilish\", \"5 Seconds of Summer\", \"Travis Scott\", \"Rich The Kid\", \"Anitta\", \"G-Eazy\", \"Shawn Mendes\", \"Bazzi\", \"Dean Lewis\", \"Lil Uzi Vert\", \"Zac Efron\", \"Reik\", \"Bruno Mars\", \"Dennis Lloyd\", \"Ti?sto\", \"Luis Fonsi\", \"DJ Khaled\", \"Jonas Blue\"], \"y\": [6, 6, 4, 3, 3, 2, 2, 2, 2, 2, 2, 2, 2, 2, 2, 2, 2, 2, 1, 1, 1, 1, 1, 1, 1, 1, 1, 1, 1, 1, 1, 1, 1, 1, 1, 1, 1, 1, 1, 1, 1, 1, 1, 1, 1, 1, 1, 1, 1, 1, 1, 1, 1, 1, 1, 1, 1, 1, 1, 1, 1, 1, 1, 1, 1, 1, 1, 1, 1, 1]}],\n                        {\"barmode\": \"group\", \"title\": {\"text\": \"Number of Tracks per Artist in Spotify Top 100 List (2018)\"}, \"yaxis\": {\"title\": {\"text\": \"Number of Tracks per Artist\"}}},\n                        {\"showLink\": false, \"linkText\": \"Export to plot.ly\", \"plotlyServerURL\": \"https://plot.ly\", \"responsive\": true}\n                    ).then(function(){\n                            \nvar gd = document.getElementById('d9587d0d-b587-44f4-a694-315cb61afb25');\nvar x = new MutationObserver(function (mutations, observer) {{\n        var display = window.getComputedStyle(gd).display;\n        if (!display || display === 'none') {{\n            console.log([gd, 'removed!']);\n            Plotly.purge(gd);\n            observer.disconnect();\n        }}\n}});\n\n// Listen for the removal of the full notebook cells\nvar notebookContainer = gd.closest('#notebook-container');\nif (notebookContainer) {{\n    x.observe(notebookContainer, {childList: true});\n}}\n\n// Listen for the clearing of the current output cell\nvar outputEl = gd.closest('.output');\nif (outputEl) {{\n    x.observe(outputEl, {childList: true});\n}}\n\n                        })\n                };\n                });\n            </script>\n        </div>",
            "application/vnd.plotly.v1+json": {
              "data": [
                {
                  "name": "Top Spotify Tracks 2018",
                  "text": [
                    "Post Malone",
                    "XXXTENTACION",
                    "Drake",
                    "Ed Sheeran",
                    "Marshmello",
                    "Kendrick Lamar",
                    "Imagine Dragons",
                    "Calvin Harris",
                    "Migos",
                    "Camila Cabello",
                    "Maroon 5",
                    "Selena Gomez",
                    "Ozuna",
                    "Clean Bandit",
                    "Khalid",
                    "The Weeknd",
                    "Dua Lipa",
                    "Ariana Grande",
                    "Dynoro",
                    "Sam Smith",
                    "6ix9ine",
                    "Lil Baby",
                    "Zedd",
                    "Bebe Rexha",
                    "David Guetta",
                    "Juice WRLD",
                    "Hailee Steinfeld",
                    "Lil Dicky",
                    "Sofia Reyes",
                    "benny blanco",
                    "Rudimental",
                    "Nicky Jam",
                    "Keala Settle",
                    "BlocBoy JB",
                    "Piso 21",
                    "Nio Garcia",
                    "Lauv",
                    "DJ Snake",
                    "Eminem",
                    "NF",
                    "Tyga",
                    "Wolfine",
                    "Becky G",
                    "Cardi B",
                    "Loud Luxury",
                    "Natti Natasha",
                    "Maluma",
                    "Portugal. The Man",
                    "Daddy Yankee",
                    "Anne-Marie",
                    "Offset",
                    "ZAYN",
                    "Billie Eilish",
                    "5 Seconds of Summer",
                    "Travis Scott",
                    "Rich The Kid",
                    "Anitta",
                    "G-Eazy",
                    "Shawn Mendes",
                    "Bazzi",
                    "Dean Lewis",
                    "Lil Uzi Vert",
                    "Zac Efron",
                    "Reik",
                    "Bruno Mars",
                    "Dennis Lloyd",
                    "Ti?sto",
                    "Luis Fonsi",
                    "DJ Khaled",
                    "Jonas Blue"
                  ],
                  "y": [
                    6,
                    6,
                    4,
                    3,
                    3,
                    2,
                    2,
                    2,
                    2,
                    2,
                    2,
                    2,
                    2,
                    2,
                    2,
                    2,
                    2,
                    2,
                    1,
                    1,
                    1,
                    1,
                    1,
                    1,
                    1,
                    1,
                    1,
                    1,
                    1,
                    1,
                    1,
                    1,
                    1,
                    1,
                    1,
                    1,
                    1,
                    1,
                    1,
                    1,
                    1,
                    1,
                    1,
                    1,
                    1,
                    1,
                    1,
                    1,
                    1,
                    1,
                    1,
                    1,
                    1,
                    1,
                    1,
                    1,
                    1,
                    1,
                    1,
                    1,
                    1,
                    1,
                    1,
                    1,
                    1,
                    1,
                    1,
                    1,
                    1,
                    1
                  ],
                  "marker": {
                    "color": "rgba(0, 0, 255, 0.8)",
                    "line": {
                      "color": "rgb(0,0,0)",
                      "width": 1.5
                    }
                  },
                  "x": [
                    "Post Malone",
                    "XXXTENTACION",
                    "Drake",
                    "Ed Sheeran",
                    "Marshmello",
                    "Kendrick Lamar",
                    "Imagine Dragons",
                    "Calvin Harris",
                    "Migos",
                    "Camila Cabello",
                    "Maroon 5",
                    "Selena Gomez",
                    "Ozuna",
                    "Clean Bandit",
                    "Khalid",
                    "The Weeknd",
                    "Dua Lipa",
                    "Ariana Grande",
                    "Dynoro",
                    "Sam Smith",
                    "6ix9ine",
                    "Lil Baby",
                    "Zedd",
                    "Bebe Rexha",
                    "David Guetta",
                    "Juice WRLD",
                    "Hailee Steinfeld",
                    "Lil Dicky",
                    "Sofia Reyes",
                    "benny blanco",
                    "Rudimental",
                    "Nicky Jam",
                    "Keala Settle",
                    "BlocBoy JB",
                    "Piso 21",
                    "Nio Garcia",
                    "Lauv",
                    "DJ Snake",
                    "Eminem",
                    "NF",
                    "Tyga",
                    "Wolfine",
                    "Becky G",
                    "Cardi B",
                    "Loud Luxury",
                    "Natti Natasha",
                    "Maluma",
                    "Portugal. The Man",
                    "Daddy Yankee",
                    "Anne-Marie",
                    "Offset",
                    "ZAYN",
                    "Billie Eilish",
                    "5 Seconds of Summer",
                    "Travis Scott",
                    "Rich The Kid",
                    "Anitta",
                    "G-Eazy",
                    "Shawn Mendes",
                    "Bazzi",
                    "Dean Lewis",
                    "Lil Uzi Vert",
                    "Zac Efron",
                    "Reik",
                    "Bruno Mars",
                    "Dennis Lloyd",
                    "Ti?sto",
                    "Luis Fonsi",
                    "DJ Khaled",
                    "Jonas Blue"
                  ],
                  "type": "bar",
                  "uid": "dc424709-cca4-4a67-aeab-7cd7d12b3877"
                }
              ],
              "config": {
                "responsive": true,
                "plotlyServerURL": "https://plot.ly",
                "linkText": "Export to plot.ly",
                "showLink": false
              },
              "layout": {
                "barmode": "group",
                "yaxis": {
                  "title": {
                    "text": "Number of Tracks per Artist"
                  }
                },
                "title": {
                  "text": "Number of Tracks per Artist in Spotify Top 100 List (2018)"
                }
              }
            }
          },
          "metadata": {}
        }
      ]
    },
    {
      "metadata": {
        "trusted": true
      },
      "cell_type": "code",
      "source": "print('Top 100 Spotify Tracks in 2017: ')\npd.set_option('display.max_rows', 100)\ntop2017[['artists','name']]",
      "execution_count": 25,
      "outputs": [
        {
          "output_type": "stream",
          "text": "Top 100 Spotify Tracks in 2017: \n",
          "name": "stdout"
        },
        {
          "output_type": "execute_result",
          "execution_count": 25,
          "data": {
            "text/html": "<div>\n<style scoped>\n    .dataframe tbody tr th:only-of-type {\n        vertical-align: middle;\n    }\n\n    .dataframe tbody tr th {\n        vertical-align: top;\n    }\n\n    .dataframe thead th {\n        text-align: right;\n    }\n</style>\n<table border=\"1\" class=\"dataframe\">\n  <thead>\n    <tr style=\"text-align: right;\">\n      <th></th>\n      <th>artists</th>\n      <th>name</th>\n    </tr>\n  </thead>\n  <tbody>\n    <tr>\n      <th>0</th>\n      <td>Ed Sheeran</td>\n      <td>Shape of You</td>\n    </tr>\n    <tr>\n      <th>1</th>\n      <td>Luis Fonsi</td>\n      <td>Despacito - Remix</td>\n    </tr>\n    <tr>\n      <th>2</th>\n      <td>Luis Fonsi</td>\n      <td>Despacito (Featuring Daddy Yankee)</td>\n    </tr>\n    <tr>\n      <th>3</th>\n      <td>The Chainsmokers</td>\n      <td>Something Just Like This</td>\n    </tr>\n    <tr>\n      <th>4</th>\n      <td>DJ Khaled</td>\n      <td>I'm the One</td>\n    </tr>\n    <tr>\n      <th>5</th>\n      <td>Kendrick Lamar</td>\n      <td>HUMBLE.</td>\n    </tr>\n    <tr>\n      <th>6</th>\n      <td>Kygo</td>\n      <td>It Ain't Me (with Selena Gomez)</td>\n    </tr>\n    <tr>\n      <th>7</th>\n      <td>French Montana</td>\n      <td>Unforgettable</td>\n    </tr>\n    <tr>\n      <th>8</th>\n      <td>Bruno Mars</td>\n      <td>That's What I Like</td>\n    </tr>\n    <tr>\n      <th>9</th>\n      <td>ZAYN</td>\n      <td>I Don’t Wanna Live Forever (Fifty Shades Darke...</td>\n    </tr>\n    <tr>\n      <th>10</th>\n      <td>Lil Uzi Vert</td>\n      <td>XO TOUR Llif3</td>\n    </tr>\n    <tr>\n      <th>11</th>\n      <td>The Chainsmokers</td>\n      <td>Paris</td>\n    </tr>\n    <tr>\n      <th>12</th>\n      <td>Zedd</td>\n      <td>Stay (with Alessia Cara)</td>\n    </tr>\n    <tr>\n      <th>13</th>\n      <td>Charlie Puth</td>\n      <td>Attention</td>\n    </tr>\n    <tr>\n      <th>14</th>\n      <td>Future</td>\n      <td>Mask Off</td>\n    </tr>\n    <tr>\n      <th>15</th>\n      <td>Post Malone</td>\n      <td>Congratulations</td>\n    </tr>\n    <tr>\n      <th>16</th>\n      <td>Jason Derulo</td>\n      <td>Swalla (feat. Nicki Minaj &amp; Ty Dolla $ign)</td>\n    </tr>\n    <tr>\n      <th>17</th>\n      <td>Ed Sheeran</td>\n      <td>Castle on the Hill</td>\n    </tr>\n    <tr>\n      <th>18</th>\n      <td>Clean Bandit</td>\n      <td>Rockabye (feat. Sean Paul &amp; Anne-Marie)</td>\n    </tr>\n    <tr>\n      <th>19</th>\n      <td>Imagine Dragons</td>\n      <td>Believer</td>\n    </tr>\n    <tr>\n      <th>20</th>\n      <td>J Balvin</td>\n      <td>Mi Gente</td>\n    </tr>\n    <tr>\n      <th>21</th>\n      <td>Imagine Dragons</td>\n      <td>Thunder</td>\n    </tr>\n    <tr>\n      <th>22</th>\n      <td>James Arthur</td>\n      <td>Say You Won't Let Go</td>\n    </tr>\n    <tr>\n      <th>23</th>\n      <td>Shawn Mendes</td>\n      <td>There's Nothing Holdin' Me Back</td>\n    </tr>\n    <tr>\n      <th>24</th>\n      <td>Danny Ocean</td>\n      <td>Me Rehúso</td>\n    </tr>\n    <tr>\n      <th>25</th>\n      <td>Julia Michaels</td>\n      <td>Issues</td>\n    </tr>\n    <tr>\n      <th>26</th>\n      <td>Ed Sheeran</td>\n      <td>Galway Girl</td>\n    </tr>\n    <tr>\n      <th>27</th>\n      <td>Martin Garrix</td>\n      <td>Scared to Be Lonely</td>\n    </tr>\n    <tr>\n      <th>28</th>\n      <td>The Chainsmokers</td>\n      <td>Closer</td>\n    </tr>\n    <tr>\n      <th>29</th>\n      <td>Clean Bandit</td>\n      <td>Symphony (feat. Zara Larsson)</td>\n    </tr>\n    <tr>\n      <th>30</th>\n      <td>The Weeknd</td>\n      <td>I Feel It Coming</td>\n    </tr>\n    <tr>\n      <th>31</th>\n      <td>The Weeknd</td>\n      <td>Starboy</td>\n    </tr>\n    <tr>\n      <th>32</th>\n      <td>DJ Khaled</td>\n      <td>Wild Thoughts</td>\n    </tr>\n    <tr>\n      <th>33</th>\n      <td>Calvin Harris</td>\n      <td>Slide</td>\n    </tr>\n    <tr>\n      <th>34</th>\n      <td>Dua Lipa</td>\n      <td>New Rules</td>\n    </tr>\n    <tr>\n      <th>35</th>\n      <td>Logic</td>\n      <td>1-800-273-8255</td>\n    </tr>\n    <tr>\n      <th>36</th>\n      <td>Drake</td>\n      <td>Passionfruit</td>\n    </tr>\n    <tr>\n      <th>37</th>\n      <td>Post Malone</td>\n      <td>rockstar</td>\n    </tr>\n    <tr>\n      <th>38</th>\n      <td>Liam Payne</td>\n      <td>Strip That Down</td>\n    </tr>\n    <tr>\n      <th>39</th>\n      <td>David Guetta</td>\n      <td>2U (feat. Justin Bieber)</td>\n    </tr>\n    <tr>\n      <th>40</th>\n      <td>Ed Sheeran</td>\n      <td>Perfect</td>\n    </tr>\n    <tr>\n      <th>41</th>\n      <td>Starley</td>\n      <td>Call On Me - Ryan Riback Extended Remix</td>\n    </tr>\n    <tr>\n      <th>42</th>\n      <td>Calvin Harris</td>\n      <td>Feels</td>\n    </tr>\n    <tr>\n      <th>43</th>\n      <td>Jonas Blue</td>\n      <td>Mama</td>\n    </tr>\n    <tr>\n      <th>44</th>\n      <td>Maluma</td>\n      <td>Felices los 4</td>\n    </tr>\n    <tr>\n      <th>45</th>\n      <td>KYLE</td>\n      <td>iSpy (feat. Lil Yachty)</td>\n    </tr>\n    <tr>\n      <th>46</th>\n      <td>Khalid</td>\n      <td>Location</td>\n    </tr>\n    <tr>\n      <th>47</th>\n      <td>Shakira</td>\n      <td>Chantaje</td>\n    </tr>\n    <tr>\n      <th>48</th>\n      <td>Migos</td>\n      <td>Bad and Boujee (feat. Lil Uzi Vert)</td>\n    </tr>\n    <tr>\n      <th>49</th>\n      <td>Camila Cabello</td>\n      <td>Havana</td>\n    </tr>\n    <tr>\n      <th>50</th>\n      <td>Martin Jensen</td>\n      <td>Solo Dance</td>\n    </tr>\n    <tr>\n      <th>51</th>\n      <td>Drake</td>\n      <td>Fake Love</td>\n    </tr>\n    <tr>\n      <th>52</th>\n      <td>DJ Snake</td>\n      <td>Let Me Love You</td>\n    </tr>\n    <tr>\n      <th>53</th>\n      <td>Axwell /\\ Ingrosso</td>\n      <td>More Than You Know</td>\n    </tr>\n    <tr>\n      <th>54</th>\n      <td>Drake</td>\n      <td>One Dance</td>\n    </tr>\n    <tr>\n      <th>55</th>\n      <td>Enrique Iglesias</td>\n      <td>SUBEME LA RADIO</td>\n    </tr>\n    <tr>\n      <th>56</th>\n      <td>Maggie Lindemann</td>\n      <td>Pretty Girl - Cheat Codes X CADE Remix</td>\n    </tr>\n    <tr>\n      <th>57</th>\n      <td>Demi Lovato</td>\n      <td>Sorry Not Sorry</td>\n    </tr>\n    <tr>\n      <th>58</th>\n      <td>Childish Gambino</td>\n      <td>Redbone</td>\n    </tr>\n    <tr>\n      <th>59</th>\n      <td>Bruno Mars</td>\n      <td>24K Magic</td>\n    </tr>\n    <tr>\n      <th>60</th>\n      <td>Kendrick Lamar</td>\n      <td>DNA.</td>\n    </tr>\n    <tr>\n      <th>61</th>\n      <td>Nicky Jam</td>\n      <td>El Amante</td>\n    </tr>\n    <tr>\n      <th>62</th>\n      <td>Jax Jones</td>\n      <td>You Don't Know Me - Radio Edit</td>\n    </tr>\n    <tr>\n      <th>63</th>\n      <td>Katy Perry</td>\n      <td>Chained To The Rhythm</td>\n    </tr>\n    <tr>\n      <th>64</th>\n      <td>Cheat Codes</td>\n      <td>No Promises (feat. Demi Lovato)</td>\n    </tr>\n    <tr>\n      <th>65</th>\n      <td>Maroon 5</td>\n      <td>Don't Wanna Know (feat. Kendrick Lamar)</td>\n    </tr>\n    <tr>\n      <th>66</th>\n      <td>Alessia Cara</td>\n      <td>How Far I'll Go - From \"Moana\"</td>\n    </tr>\n    <tr>\n      <th>67</th>\n      <td>Niall Horan</td>\n      <td>Slow Hands</td>\n    </tr>\n    <tr>\n      <th>68</th>\n      <td>Wisin</td>\n      <td>Escápate Conmigo</td>\n    </tr>\n    <tr>\n      <th>69</th>\n      <td>Big Sean</td>\n      <td>Bounce Back</td>\n    </tr>\n    <tr>\n      <th>70</th>\n      <td>Harry Styles</td>\n      <td>Sign of the Times</td>\n    </tr>\n    <tr>\n      <th>71</th>\n      <td>Travis Scott</td>\n      <td>goosebumps</td>\n    </tr>\n    <tr>\n      <th>72</th>\n      <td>Khalid</td>\n      <td>Young Dumb &amp; Broke</td>\n    </tr>\n    <tr>\n      <th>73</th>\n      <td>Martin Garrix</td>\n      <td>There for You</td>\n    </tr>\n    <tr>\n      <th>74</th>\n      <td>Maroon 5</td>\n      <td>Cold (feat. Future)</td>\n    </tr>\n    <tr>\n      <th>75</th>\n      <td>Marshmello</td>\n      <td>Silence</td>\n    </tr>\n    <tr>\n      <th>76</th>\n      <td>Sam Smith</td>\n      <td>Too Good At Goodbyes</td>\n    </tr>\n    <tr>\n      <th>77</th>\n      <td>Steve Aoki</td>\n      <td>Just Hold On</td>\n    </tr>\n    <tr>\n      <th>78</th>\n      <td>Taylor Swift</td>\n      <td>Look What You Made Me Do</td>\n    </tr>\n    <tr>\n      <th>79</th>\n      <td>Macklemore</td>\n      <td>Glorious (feat. Skylar Grey)</td>\n    </tr>\n    <tr>\n      <th>80</th>\n      <td>Hailee Steinfeld</td>\n      <td>Starving</td>\n    </tr>\n    <tr>\n      <th>81</th>\n      <td>CNCO</td>\n      <td>Reggaetón Lento (Bailemos)</td>\n    </tr>\n    <tr>\n      <th>82</th>\n      <td>AJR</td>\n      <td>Weak</td>\n    </tr>\n    <tr>\n      <th>83</th>\n      <td>Ariana Grande</td>\n      <td>Side To Side</td>\n    </tr>\n    <tr>\n      <th>84</th>\n      <td>Zion &amp; Lennox</td>\n      <td>Otra Vez (feat. J Balvin)</td>\n    </tr>\n    <tr>\n      <th>85</th>\n      <td>Lauv</td>\n      <td>I Like Me Better</td>\n    </tr>\n    <tr>\n      <th>86</th>\n      <td>Martin Garrix</td>\n      <td>In the Name of Love</td>\n    </tr>\n    <tr>\n      <th>87</th>\n      <td>Major Lazer</td>\n      <td>Cold Water (feat. Justin Bieber &amp; MØ)</td>\n    </tr>\n    <tr>\n      <th>88</th>\n      <td>Miley Cyrus</td>\n      <td>Malibu</td>\n    </tr>\n    <tr>\n      <th>89</th>\n      <td>The Vamps</td>\n      <td>All Night</td>\n    </tr>\n    <tr>\n      <th>90</th>\n      <td>Alok</td>\n      <td>Hear Me Now</td>\n    </tr>\n    <tr>\n      <th>91</th>\n      <td>Rita Ora</td>\n      <td>Your Song</td>\n    </tr>\n    <tr>\n      <th>92</th>\n      <td>Chris Jeday</td>\n      <td>Ahora Dice</td>\n    </tr>\n    <tr>\n      <th>93</th>\n      <td>Justin Bieber</td>\n      <td>Friends (with BloodPop®)</td>\n    </tr>\n    <tr>\n      <th>94</th>\n      <td>21 Savage</td>\n      <td>Bank Account</td>\n    </tr>\n    <tr>\n      <th>95</th>\n      <td>Machine Gun Kelly</td>\n      <td>Bad Things (with Camila Cabello)</td>\n    </tr>\n    <tr>\n      <th>96</th>\n      <td>The Chainsmokers</td>\n      <td>Don't Let Me Down</td>\n    </tr>\n    <tr>\n      <th>97</th>\n      <td>Sam Hunt</td>\n      <td>Body Like A Back Road</td>\n    </tr>\n    <tr>\n      <th>98</th>\n      <td>Halsey</td>\n      <td>Now Or Never</td>\n    </tr>\n    <tr>\n      <th>99</th>\n      <td>ZAYN</td>\n      <td>Dusk Till Dawn - Radio Edit</td>\n    </tr>\n  </tbody>\n</table>\n</div>",
            "text/plain": "               artists                                               name\n0           Ed Sheeran                                       Shape of You\n1           Luis Fonsi                                  Despacito - Remix\n2           Luis Fonsi                 Despacito (Featuring Daddy Yankee)\n3     The Chainsmokers                           Something Just Like This\n4            DJ Khaled                                        I'm the One\n5       Kendrick Lamar                                            HUMBLE.\n6                 Kygo                    It Ain't Me (with Selena Gomez)\n7       French Montana                                      Unforgettable\n8           Bruno Mars                                 That's What I Like\n9                 ZAYN  I Don’t Wanna Live Forever (Fifty Shades Darke...\n10        Lil Uzi Vert                                      XO TOUR Llif3\n11    The Chainsmokers                                              Paris\n12                Zedd                           Stay (with Alessia Cara)\n13        Charlie Puth                                          Attention\n14              Future                                           Mask Off\n15         Post Malone                                    Congratulations\n16        Jason Derulo         Swalla (feat. Nicki Minaj & Ty Dolla $ign)\n17          Ed Sheeran                                 Castle on the Hill\n18        Clean Bandit            Rockabye (feat. Sean Paul & Anne-Marie)\n19     Imagine Dragons                                           Believer\n20            J Balvin                                           Mi Gente\n21     Imagine Dragons                                            Thunder\n22        James Arthur                               Say You Won't Let Go\n23        Shawn Mendes                    There's Nothing Holdin' Me Back\n24         Danny Ocean                                          Me Rehúso\n25      Julia Michaels                                             Issues\n26          Ed Sheeran                                        Galway Girl\n27       Martin Garrix                                Scared to Be Lonely\n28    The Chainsmokers                                             Closer\n29        Clean Bandit                      Symphony (feat. Zara Larsson)\n30          The Weeknd                                   I Feel It Coming\n31          The Weeknd                                            Starboy\n32           DJ Khaled                                      Wild Thoughts\n33       Calvin Harris                                              Slide\n34            Dua Lipa                                          New Rules\n35               Logic                                     1-800-273-8255\n36               Drake                                       Passionfruit\n37         Post Malone                                           rockstar\n38          Liam Payne                                    Strip That Down\n39        David Guetta                           2U (feat. Justin Bieber)\n40          Ed Sheeran                                            Perfect\n41             Starley            Call On Me - Ryan Riback Extended Remix\n42       Calvin Harris                                              Feels\n43          Jonas Blue                                               Mama\n44              Maluma                                      Felices los 4\n45                KYLE                            iSpy (feat. Lil Yachty)\n46              Khalid                                           Location\n47             Shakira                                           Chantaje\n48               Migos                Bad and Boujee (feat. Lil Uzi Vert)\n49      Camila Cabello                                             Havana\n50       Martin Jensen                                         Solo Dance\n51               Drake                                          Fake Love\n52            DJ Snake                                    Let Me Love You\n53  Axwell /\\ Ingrosso                                 More Than You Know\n54               Drake                                          One Dance\n55    Enrique Iglesias                                    SUBEME LA RADIO\n56    Maggie Lindemann             Pretty Girl - Cheat Codes X CADE Remix\n57         Demi Lovato                                    Sorry Not Sorry\n58    Childish Gambino                                            Redbone\n59          Bruno Mars                                          24K Magic\n60      Kendrick Lamar                                               DNA.\n61           Nicky Jam                                          El Amante\n62           Jax Jones                     You Don't Know Me - Radio Edit\n63          Katy Perry                              Chained To The Rhythm\n64         Cheat Codes                    No Promises (feat. Demi Lovato)\n65            Maroon 5            Don't Wanna Know (feat. Kendrick Lamar)\n66        Alessia Cara                     How Far I'll Go - From \"Moana\"\n67         Niall Horan                                         Slow Hands\n68               Wisin                                   Escápate Conmigo\n69            Big Sean                                        Bounce Back\n70        Harry Styles                                  Sign of the Times\n71        Travis Scott                                         goosebumps\n72              Khalid                                 Young Dumb & Broke\n73       Martin Garrix                                      There for You\n74            Maroon 5                                Cold (feat. Future)\n75          Marshmello                                            Silence\n76           Sam Smith                               Too Good At Goodbyes\n77          Steve Aoki                                       Just Hold On\n78        Taylor Swift                           Look What You Made Me Do\n79          Macklemore                       Glorious (feat. Skylar Grey)\n80    Hailee Steinfeld                                           Starving\n81                CNCO                         Reggaetón Lento (Bailemos)\n82                 AJR                                               Weak\n83       Ariana Grande                                       Side To Side\n84       Zion & Lennox                          Otra Vez (feat. J Balvin)\n85                Lauv                                   I Like Me Better\n86       Martin Garrix                                In the Name of Love\n87         Major Lazer              Cold Water (feat. Justin Bieber & MØ)\n88         Miley Cyrus                                             Malibu\n89           The Vamps                                          All Night\n90                Alok                                        Hear Me Now\n91            Rita Ora                                          Your Song\n92         Chris Jeday                                         Ahora Dice\n93       Justin Bieber                           Friends (with BloodPop®)\n94           21 Savage                                       Bank Account\n95   Machine Gun Kelly                   Bad Things (with Camila Cabello)\n96    The Chainsmokers                                  Don't Let Me Down\n97            Sam Hunt                              Body Like A Back Road\n98              Halsey                                       Now Or Never\n99                ZAYN                        Dusk Till Dawn - Radio Edit"
          },
          "metadata": {}
        }
      ]
    },
    {
      "metadata": {
        "trusted": true
      },
      "cell_type": "code",
      "source": "artistCounts = top2017['artists'].value_counts()\nartistCountsDf = pd.DataFrame(artistCounts)\ntrace1 = go.Bar(\n                x = artistCountsDf.index,\n                y = artistCountsDf.artists,\n                name = \"Top Spotify Tracks 2017\",\n                marker = dict(color = 'rgba(0, 0, 255, 0.8)',\n                             line=dict(color='rgb(0,0,0)',width=1.5)),\n                text = artistCountsDf.index)\ndata = [trace1]\n\nlayout = go.Layout(barmode = \"group\",title='Number of Tracks per Artist in Spotify Top 100 List (2017)', yaxis= dict(title= 'Number of Tracks per Artist'))\nfig = go.Figure(data = data, layout = layout)\niplot(fig)",
      "execution_count": 26,
      "outputs": [
        {
          "output_type": "display_data",
          "data": {
            "text/html": "<div>\n        \n        \n            <div id=\"fbd63e79-acf1-484a-aff2-fe32445e1eb2\" class=\"plotly-graph-div\" style=\"height:525px; width:100%;\"></div>\n            <script type=\"text/javascript\">\n                require([\"plotly\"], function(Plotly) {\n                    window.PLOTLYENV=window.PLOTLYENV || {};\n                    window.PLOTLYENV.BASE_URL='https://plot.ly';\n                    \n                if (document.getElementById(\"fbd63e79-acf1-484a-aff2-fe32445e1eb2\")) {\n                    Plotly.newPlot(\n                        'fbd63e79-acf1-484a-aff2-fe32445e1eb2',\n                        [{\"marker\": {\"color\": \"rgba(0, 0, 255, 0.8)\", \"line\": {\"color\": \"rgb(0,0,0)\", \"width\": 1.5}}, \"name\": \"Top Spotify Tracks 2017\", \"text\": [\"Ed Sheeran\", \"The Chainsmokers\", \"Drake\", \"Martin Garrix\", \"Clean Bandit\", \"Bruno Mars\", \"Maroon 5\", \"Luis Fonsi\", \"DJ Khaled\", \"Khalid\", \"Post Malone\", \"Kendrick Lamar\", \"ZAYN\", \"The Weeknd\", \"Imagine Dragons\", \"Calvin Harris\", \"Shakira\", \"Halsey\", \"Zedd\", \"Harry Styles\", \"Danny Ocean\", \"Charlie Puth\", \"Hailee Steinfeld\", \"Future\", \"Childish Gambino\", \"David Guetta\", \"DJ Snake\", \"Marshmello\", \"21 Savage\", \"Ariana Grande\", \"Kygo\", \"Demi Lovato\", \"Steve Aoki\", \"Chris Jeday\", \"Starley\", \"Enrique Iglesias\", \"Zion & Lennox\", \"Nicky Jam\", \"Machine Gun Kelly\", \"Cheat Codes\", \"Camila Cabello\", \"Alessia Cara\", \"Sam Hunt\", \"James Arthur\", \"Liam Payne\", \"Jax Jones\", \"Jason Derulo\", \"Justin Bieber\", \"Maggie Lindemann\", \"Axwell /\\\\ Ingrosso\", \"Alok\", \"CNCO\", \"Maluma\", \"Julia Michaels\", \"KYLE\", \"AJR\", \"Miley Cyrus\", \"Big Sean\", \"Migos\", \"Martin Jensen\", \"Travis Scott\", \"Taylor Swift\", \"Sam Smith\", \"Shawn Mendes\", \"Katy Perry\", \"Niall Horan\", \"Logic\", \"Macklemore\", \"Lil Uzi Vert\", \"French Montana\", \"Lauv\", \"J Balvin\", \"Major Lazer\", \"Dua Lipa\", \"Rita Ora\", \"The Vamps\", \"Wisin\", \"Jonas Blue\"], \"type\": \"bar\", \"uid\": \"f9386fb3-39f4-4323-a265-31685c00614d\", \"x\": [\"Ed Sheeran\", \"The Chainsmokers\", \"Drake\", \"Martin Garrix\", \"Clean Bandit\", \"Bruno Mars\", \"Maroon 5\", \"Luis Fonsi\", \"DJ Khaled\", \"Khalid\", \"Post Malone\", \"Kendrick Lamar\", \"ZAYN\", \"The Weeknd\", \"Imagine Dragons\", \"Calvin Harris\", \"Shakira\", \"Halsey\", \"Zedd\", \"Harry Styles\", \"Danny Ocean\", \"Charlie Puth\", \"Hailee Steinfeld\", \"Future\", \"Childish Gambino\", \"David Guetta\", \"DJ Snake\", \"Marshmello\", \"21 Savage\", \"Ariana Grande\", \"Kygo\", \"Demi Lovato\", \"Steve Aoki\", \"Chris Jeday\", \"Starley\", \"Enrique Iglesias\", \"Zion & Lennox\", \"Nicky Jam\", \"Machine Gun Kelly\", \"Cheat Codes\", \"Camila Cabello\", \"Alessia Cara\", \"Sam Hunt\", \"James Arthur\", \"Liam Payne\", \"Jax Jones\", \"Jason Derulo\", \"Justin Bieber\", \"Maggie Lindemann\", \"Axwell /\\\\ Ingrosso\", \"Alok\", \"CNCO\", \"Maluma\", \"Julia Michaels\", \"KYLE\", \"AJR\", \"Miley Cyrus\", \"Big Sean\", \"Migos\", \"Martin Jensen\", \"Travis Scott\", \"Taylor Swift\", \"Sam Smith\", \"Shawn Mendes\", \"Katy Perry\", \"Niall Horan\", \"Logic\", \"Macklemore\", \"Lil Uzi Vert\", \"French Montana\", \"Lauv\", \"J Balvin\", \"Major Lazer\", \"Dua Lipa\", \"Rita Ora\", \"The Vamps\", \"Wisin\", \"Jonas Blue\"], \"y\": [4, 4, 3, 3, 2, 2, 2, 2, 2, 2, 2, 2, 2, 2, 2, 2, 1, 1, 1, 1, 1, 1, 1, 1, 1, 1, 1, 1, 1, 1, 1, 1, 1, 1, 1, 1, 1, 1, 1, 1, 1, 1, 1, 1, 1, 1, 1, 1, 1, 1, 1, 1, 1, 1, 1, 1, 1, 1, 1, 1, 1, 1, 1, 1, 1, 1, 1, 1, 1, 1, 1, 1, 1, 1, 1, 1, 1, 1]}],\n                        {\"barmode\": \"group\", \"title\": {\"text\": \"Number of Tracks per Artist in Spotify Top 100 List (2017)\"}, \"yaxis\": {\"title\": {\"text\": \"Number of Tracks per Artist\"}}},\n                        {\"showLink\": false, \"linkText\": \"Export to plot.ly\", \"plotlyServerURL\": \"https://plot.ly\", \"responsive\": true}\n                    ).then(function(){\n                            \nvar gd = document.getElementById('fbd63e79-acf1-484a-aff2-fe32445e1eb2');\nvar x = new MutationObserver(function (mutations, observer) {{\n        var display = window.getComputedStyle(gd).display;\n        if (!display || display === 'none') {{\n            console.log([gd, 'removed!']);\n            Plotly.purge(gd);\n            observer.disconnect();\n        }}\n}});\n\n// Listen for the removal of the full notebook cells\nvar notebookContainer = gd.closest('#notebook-container');\nif (notebookContainer) {{\n    x.observe(notebookContainer, {childList: true});\n}}\n\n// Listen for the clearing of the current output cell\nvar outputEl = gd.closest('.output');\nif (outputEl) {{\n    x.observe(outputEl, {childList: true});\n}}\n\n                        })\n                };\n                });\n            </script>\n        </div>",
            "application/vnd.plotly.v1+json": {
              "data": [
                {
                  "name": "Top Spotify Tracks 2017",
                  "text": [
                    "Ed Sheeran",
                    "The Chainsmokers",
                    "Drake",
                    "Martin Garrix",
                    "Clean Bandit",
                    "Bruno Mars",
                    "Maroon 5",
                    "Luis Fonsi",
                    "DJ Khaled",
                    "Khalid",
                    "Post Malone",
                    "Kendrick Lamar",
                    "ZAYN",
                    "The Weeknd",
                    "Imagine Dragons",
                    "Calvin Harris",
                    "Shakira",
                    "Halsey",
                    "Zedd",
                    "Harry Styles",
                    "Danny Ocean",
                    "Charlie Puth",
                    "Hailee Steinfeld",
                    "Future",
                    "Childish Gambino",
                    "David Guetta",
                    "DJ Snake",
                    "Marshmello",
                    "21 Savage",
                    "Ariana Grande",
                    "Kygo",
                    "Demi Lovato",
                    "Steve Aoki",
                    "Chris Jeday",
                    "Starley",
                    "Enrique Iglesias",
                    "Zion & Lennox",
                    "Nicky Jam",
                    "Machine Gun Kelly",
                    "Cheat Codes",
                    "Camila Cabello",
                    "Alessia Cara",
                    "Sam Hunt",
                    "James Arthur",
                    "Liam Payne",
                    "Jax Jones",
                    "Jason Derulo",
                    "Justin Bieber",
                    "Maggie Lindemann",
                    "Axwell /\\ Ingrosso",
                    "Alok",
                    "CNCO",
                    "Maluma",
                    "Julia Michaels",
                    "KYLE",
                    "AJR",
                    "Miley Cyrus",
                    "Big Sean",
                    "Migos",
                    "Martin Jensen",
                    "Travis Scott",
                    "Taylor Swift",
                    "Sam Smith",
                    "Shawn Mendes",
                    "Katy Perry",
                    "Niall Horan",
                    "Logic",
                    "Macklemore",
                    "Lil Uzi Vert",
                    "French Montana",
                    "Lauv",
                    "J Balvin",
                    "Major Lazer",
                    "Dua Lipa",
                    "Rita Ora",
                    "The Vamps",
                    "Wisin",
                    "Jonas Blue"
                  ],
                  "y": [
                    4,
                    4,
                    3,
                    3,
                    2,
                    2,
                    2,
                    2,
                    2,
                    2,
                    2,
                    2,
                    2,
                    2,
                    2,
                    2,
                    1,
                    1,
                    1,
                    1,
                    1,
                    1,
                    1,
                    1,
                    1,
                    1,
                    1,
                    1,
                    1,
                    1,
                    1,
                    1,
                    1,
                    1,
                    1,
                    1,
                    1,
                    1,
                    1,
                    1,
                    1,
                    1,
                    1,
                    1,
                    1,
                    1,
                    1,
                    1,
                    1,
                    1,
                    1,
                    1,
                    1,
                    1,
                    1,
                    1,
                    1,
                    1,
                    1,
                    1,
                    1,
                    1,
                    1,
                    1,
                    1,
                    1,
                    1,
                    1,
                    1,
                    1,
                    1,
                    1,
                    1,
                    1,
                    1,
                    1,
                    1,
                    1
                  ],
                  "marker": {
                    "color": "rgba(0, 0, 255, 0.8)",
                    "line": {
                      "color": "rgb(0,0,0)",
                      "width": 1.5
                    }
                  },
                  "x": [
                    "Ed Sheeran",
                    "The Chainsmokers",
                    "Drake",
                    "Martin Garrix",
                    "Clean Bandit",
                    "Bruno Mars",
                    "Maroon 5",
                    "Luis Fonsi",
                    "DJ Khaled",
                    "Khalid",
                    "Post Malone",
                    "Kendrick Lamar",
                    "ZAYN",
                    "The Weeknd",
                    "Imagine Dragons",
                    "Calvin Harris",
                    "Shakira",
                    "Halsey",
                    "Zedd",
                    "Harry Styles",
                    "Danny Ocean",
                    "Charlie Puth",
                    "Hailee Steinfeld",
                    "Future",
                    "Childish Gambino",
                    "David Guetta",
                    "DJ Snake",
                    "Marshmello",
                    "21 Savage",
                    "Ariana Grande",
                    "Kygo",
                    "Demi Lovato",
                    "Steve Aoki",
                    "Chris Jeday",
                    "Starley",
                    "Enrique Iglesias",
                    "Zion & Lennox",
                    "Nicky Jam",
                    "Machine Gun Kelly",
                    "Cheat Codes",
                    "Camila Cabello",
                    "Alessia Cara",
                    "Sam Hunt",
                    "James Arthur",
                    "Liam Payne",
                    "Jax Jones",
                    "Jason Derulo",
                    "Justin Bieber",
                    "Maggie Lindemann",
                    "Axwell /\\ Ingrosso",
                    "Alok",
                    "CNCO",
                    "Maluma",
                    "Julia Michaels",
                    "KYLE",
                    "AJR",
                    "Miley Cyrus",
                    "Big Sean",
                    "Migos",
                    "Martin Jensen",
                    "Travis Scott",
                    "Taylor Swift",
                    "Sam Smith",
                    "Shawn Mendes",
                    "Katy Perry",
                    "Niall Horan",
                    "Logic",
                    "Macklemore",
                    "Lil Uzi Vert",
                    "French Montana",
                    "Lauv",
                    "J Balvin",
                    "Major Lazer",
                    "Dua Lipa",
                    "Rita Ora",
                    "The Vamps",
                    "Wisin",
                    "Jonas Blue"
                  ],
                  "type": "bar",
                  "uid": "e0a92800-5afc-4eb8-bd8e-25b422547250"
                }
              ],
              "config": {
                "responsive": true,
                "plotlyServerURL": "https://plot.ly",
                "linkText": "Export to plot.ly",
                "showLink": false
              },
              "layout": {
                "barmode": "group",
                "yaxis": {
                  "title": {
                    "text": "Number of Tracks per Artist"
                  }
                },
                "title": {
                  "text": "Number of Tracks per Artist in Spotify Top 100 List (2017)"
                }
              }
            }
          },
          "metadata": {}
        }
      ]
    },
    {
      "metadata": {
        "trusted": true
      },
      "cell_type": "code",
      "source": "frames = [top2017, top2018]\ncombinedDf = pd.concat(frames)\nartistCounts = combinedDf['artists'].value_counts()\nartistCountsDf = pd.DataFrame(artistCounts)\ntrace1 = go.Bar(\n                x = artistCountsDf.index,\n                y = artistCountsDf.artists,\n                name = \"Top Spotify Tracks 2017 and 2018\",\n                marker = dict(color = 'rgba(0, 0, 255, 0.8)',\n                             line=dict(color='rgb(0,0,0)',width=1.5)),\n                text = artistCountsDf.index)\ndata = [trace1]\n\nlayout = go.Layout(barmode = \"group\",title='Number of Tracks per Artist in Spotify Top 100 List (2017 + 2018)', yaxis= dict(title= 'Number of Tracks per Artist'))\nfig = go.Figure(data = data, layout = layout)\niplot(fig)",
      "execution_count": 27,
      "outputs": [
        {
          "output_type": "display_data",
          "data": {
            "text/html": "<div>\n        \n        \n            <div id=\"9f0fb0f6-e352-45aa-b5ae-cbb23fe62a06\" class=\"plotly-graph-div\" style=\"height:525px; width:100%;\"></div>\n            <script type=\"text/javascript\">\n                require([\"plotly\"], function(Plotly) {\n                    window.PLOTLYENV=window.PLOTLYENV || {};\n                    window.PLOTLYENV.BASE_URL='https://plot.ly';\n                    \n                if (document.getElementById(\"9f0fb0f6-e352-45aa-b5ae-cbb23fe62a06\")) {\n                    Plotly.newPlot(\n                        '9f0fb0f6-e352-45aa-b5ae-cbb23fe62a06',\n                        [{\"marker\": {\"color\": \"rgba(0, 0, 255, 0.8)\", \"line\": {\"color\": \"rgb(0,0,0)\", \"width\": 1.5}}, \"name\": \"Top Spotify Tracks 2017 and 2018\", \"text\": [\"Post Malone\", \"Ed Sheeran\", \"Drake\", \"XXXTENTACION\", \"Clean Bandit\", \"Kendrick Lamar\", \"Imagine Dragons\", \"Maroon 5\", \"Calvin Harris\", \"Khalid\", \"Marshmello\", \"The Chainsmokers\", \"The Weeknd\", \"Ariana Grande\", \"Bruno Mars\", \"Martin Garrix\", \"Camila Cabello\", \"DJ Khaled\", \"Luis Fonsi\", \"Dua Lipa\", \"Migos\", \"ZAYN\", \"Ozuna\", \"Lauv\", \"Travis Scott\", \"Zedd\", \"David Guetta\", \"Selena Gomez\", \"DJ Snake\", \"Shawn Mendes\", \"Sam Smith\", \"Jonas Blue\", \"Maluma\", \"Nicky Jam\", \"Hailee Steinfeld\", \"Lil Uzi Vert\", \"Wolfine\", \"Niall Horan\", \"Katy Perry\", \"Chris Jeday\", \"Steve Aoki\", \"Demi Lovato\", \"Taylor Swift\", \"Kygo\", \"Reik\", \"Anitta\", \"Maggie Lindemann\", \"Rita Ora\", \"Offset\", \"21 Savage\", \"Cheat Codes\", \"French Montana\", \"Danny Ocean\", \"Starley\", \"Alessia Cara\", \"Nio Garcia\", \"Eminem\", \"Rich The Kid\", \"Sam Hunt\", \"5 Seconds of Summer\", \"benny blanco\", \"Liam Payne\", \"Bebe Rexha\", \"Future\", \"Charlie Puth\", \"Lil Baby\", \"Dynoro\", \"Anne-Marie\", \"Martin Jensen\", \"Axwell /\\\\ Ingrosso\", \"Daddy Yankee\", \"Shakira\", \"Wisin\", \"The Vamps\", \"Dennis Lloyd\", \"Natti Natasha\", \"Zac Efron\", \"Logic\", \"Dean Lewis\", \"Macklemore\", \"G-Eazy\", \"Tyga\", \"6ix9ine\", \"AJR\", \"Big Sean\", \"Miley Cyrus\", \"Billie Eilish\", \"Bazzi\", \"J Balvin\", \"KYLE\", \"Major Lazer\", \"Loud Luxury\", \"NF\", \"Jax Jones\", \"CNCO\", \"BlocBoy JB\", \"Jason Derulo\", \"Keala Settle\", \"Julia Michaels\", \"Cardi B\", \"Becky G\", \"Portugal. The Man\", \"Justin Bieber\", \"Sofia Reyes\", \"Piso 21\", \"Enrique Iglesias\", \"Halsey\", \"Zion & Lennox\", \"Ti?sto\", \"Harry Styles\", \"Rudimental\", \"James Arthur\", \"Childish Gambino\", \"Lil Dicky\", \"Juice WRLD\", \"Machine Gun Kelly\", \"Alok\"], \"type\": \"bar\", \"uid\": \"9eea8906-f5d9-43a6-8083-514f64319517\", \"x\": [\"Post Malone\", \"Ed Sheeran\", \"Drake\", \"XXXTENTACION\", \"Clean Bandit\", \"Kendrick Lamar\", \"Imagine Dragons\", \"Maroon 5\", \"Calvin Harris\", \"Khalid\", \"Marshmello\", \"The Chainsmokers\", \"The Weeknd\", \"Ariana Grande\", \"Bruno Mars\", \"Martin Garrix\", \"Camila Cabello\", \"DJ Khaled\", \"Luis Fonsi\", \"Dua Lipa\", \"Migos\", \"ZAYN\", \"Ozuna\", \"Lauv\", \"Travis Scott\", \"Zedd\", \"David Guetta\", \"Selena Gomez\", \"DJ Snake\", \"Shawn Mendes\", \"Sam Smith\", \"Jonas Blue\", \"Maluma\", \"Nicky Jam\", \"Hailee Steinfeld\", \"Lil Uzi Vert\", \"Wolfine\", \"Niall Horan\", \"Katy Perry\", \"Chris Jeday\", \"Steve Aoki\", \"Demi Lovato\", \"Taylor Swift\", \"Kygo\", \"Reik\", \"Anitta\", \"Maggie Lindemann\", \"Rita Ora\", \"Offset\", \"21 Savage\", \"Cheat Codes\", \"French Montana\", \"Danny Ocean\", \"Starley\", \"Alessia Cara\", \"Nio Garcia\", \"Eminem\", \"Rich The Kid\", \"Sam Hunt\", \"5 Seconds of Summer\", \"benny blanco\", \"Liam Payne\", \"Bebe Rexha\", \"Future\", \"Charlie Puth\", \"Lil Baby\", \"Dynoro\", \"Anne-Marie\", \"Martin Jensen\", \"Axwell /\\\\ Ingrosso\", \"Daddy Yankee\", \"Shakira\", \"Wisin\", \"The Vamps\", \"Dennis Lloyd\", \"Natti Natasha\", \"Zac Efron\", \"Logic\", \"Dean Lewis\", \"Macklemore\", \"G-Eazy\", \"Tyga\", \"6ix9ine\", \"AJR\", \"Big Sean\", \"Miley Cyrus\", \"Billie Eilish\", \"Bazzi\", \"J Balvin\", \"KYLE\", \"Major Lazer\", \"Loud Luxury\", \"NF\", \"Jax Jones\", \"CNCO\", \"BlocBoy JB\", \"Jason Derulo\", \"Keala Settle\", \"Julia Michaels\", \"Cardi B\", \"Becky G\", \"Portugal. The Man\", \"Justin Bieber\", \"Sofia Reyes\", \"Piso 21\", \"Enrique Iglesias\", \"Halsey\", \"Zion & Lennox\", \"Ti?sto\", \"Harry Styles\", \"Rudimental\", \"James Arthur\", \"Childish Gambino\", \"Lil Dicky\", \"Juice WRLD\", \"Machine Gun Kelly\", \"Alok\"], \"y\": [8, 7, 7, 6, 4, 4, 4, 4, 4, 4, 4, 4, 4, 3, 3, 3, 3, 3, 3, 3, 3, 3, 2, 2, 2, 2, 2, 2, 2, 2, 2, 2, 2, 2, 2, 2, 1, 1, 1, 1, 1, 1, 1, 1, 1, 1, 1, 1, 1, 1, 1, 1, 1, 1, 1, 1, 1, 1, 1, 1, 1, 1, 1, 1, 1, 1, 1, 1, 1, 1, 1, 1, 1, 1, 1, 1, 1, 1, 1, 1, 1, 1, 1, 1, 1, 1, 1, 1, 1, 1, 1, 1, 1, 1, 1, 1, 1, 1, 1, 1, 1, 1, 1, 1, 1, 1, 1, 1, 1, 1, 1, 1, 1, 1, 1, 1, 1]}],\n                        {\"barmode\": \"group\", \"title\": {\"text\": \"Number of Tracks per Artist in Spotify Top 100 List (2017 + 2018)\"}, \"yaxis\": {\"title\": {\"text\": \"Number of Tracks per Artist\"}}},\n                        {\"showLink\": false, \"linkText\": \"Export to plot.ly\", \"plotlyServerURL\": \"https://plot.ly\", \"responsive\": true}\n                    ).then(function(){\n                            \nvar gd = document.getElementById('9f0fb0f6-e352-45aa-b5ae-cbb23fe62a06');\nvar x = new MutationObserver(function (mutations, observer) {{\n        var display = window.getComputedStyle(gd).display;\n        if (!display || display === 'none') {{\n            console.log([gd, 'removed!']);\n            Plotly.purge(gd);\n            observer.disconnect();\n        }}\n}});\n\n// Listen for the removal of the full notebook cells\nvar notebookContainer = gd.closest('#notebook-container');\nif (notebookContainer) {{\n    x.observe(notebookContainer, {childList: true});\n}}\n\n// Listen for the clearing of the current output cell\nvar outputEl = gd.closest('.output');\nif (outputEl) {{\n    x.observe(outputEl, {childList: true});\n}}\n\n                        })\n                };\n                });\n            </script>\n        </div>",
            "application/vnd.plotly.v1+json": {
              "data": [
                {
                  "name": "Top Spotify Tracks 2017 and 2018",
                  "text": [
                    "Post Malone",
                    "Ed Sheeran",
                    "Drake",
                    "XXXTENTACION",
                    "Clean Bandit",
                    "Kendrick Lamar",
                    "Imagine Dragons",
                    "Maroon 5",
                    "Calvin Harris",
                    "Khalid",
                    "Marshmello",
                    "The Chainsmokers",
                    "The Weeknd",
                    "Ariana Grande",
                    "Bruno Mars",
                    "Martin Garrix",
                    "Camila Cabello",
                    "DJ Khaled",
                    "Luis Fonsi",
                    "Dua Lipa",
                    "Migos",
                    "ZAYN",
                    "Ozuna",
                    "Lauv",
                    "Travis Scott",
                    "Zedd",
                    "David Guetta",
                    "Selena Gomez",
                    "DJ Snake",
                    "Shawn Mendes",
                    "Sam Smith",
                    "Jonas Blue",
                    "Maluma",
                    "Nicky Jam",
                    "Hailee Steinfeld",
                    "Lil Uzi Vert",
                    "Wolfine",
                    "Niall Horan",
                    "Katy Perry",
                    "Chris Jeday",
                    "Steve Aoki",
                    "Demi Lovato",
                    "Taylor Swift",
                    "Kygo",
                    "Reik",
                    "Anitta",
                    "Maggie Lindemann",
                    "Rita Ora",
                    "Offset",
                    "21 Savage",
                    "Cheat Codes",
                    "French Montana",
                    "Danny Ocean",
                    "Starley",
                    "Alessia Cara",
                    "Nio Garcia",
                    "Eminem",
                    "Rich The Kid",
                    "Sam Hunt",
                    "5 Seconds of Summer",
                    "benny blanco",
                    "Liam Payne",
                    "Bebe Rexha",
                    "Future",
                    "Charlie Puth",
                    "Lil Baby",
                    "Dynoro",
                    "Anne-Marie",
                    "Martin Jensen",
                    "Axwell /\\ Ingrosso",
                    "Daddy Yankee",
                    "Shakira",
                    "Wisin",
                    "The Vamps",
                    "Dennis Lloyd",
                    "Natti Natasha",
                    "Zac Efron",
                    "Logic",
                    "Dean Lewis",
                    "Macklemore",
                    "G-Eazy",
                    "Tyga",
                    "6ix9ine",
                    "AJR",
                    "Big Sean",
                    "Miley Cyrus",
                    "Billie Eilish",
                    "Bazzi",
                    "J Balvin",
                    "KYLE",
                    "Major Lazer",
                    "Loud Luxury",
                    "NF",
                    "Jax Jones",
                    "CNCO",
                    "BlocBoy JB",
                    "Jason Derulo",
                    "Keala Settle",
                    "Julia Michaels",
                    "Cardi B",
                    "Becky G",
                    "Portugal. The Man",
                    "Justin Bieber",
                    "Sofia Reyes",
                    "Piso 21",
                    "Enrique Iglesias",
                    "Halsey",
                    "Zion & Lennox",
                    "Ti?sto",
                    "Harry Styles",
                    "Rudimental",
                    "James Arthur",
                    "Childish Gambino",
                    "Lil Dicky",
                    "Juice WRLD",
                    "Machine Gun Kelly",
                    "Alok"
                  ],
                  "y": [
                    8,
                    7,
                    7,
                    6,
                    4,
                    4,
                    4,
                    4,
                    4,
                    4,
                    4,
                    4,
                    4,
                    3,
                    3,
                    3,
                    3,
                    3,
                    3,
                    3,
                    3,
                    3,
                    2,
                    2,
                    2,
                    2,
                    2,
                    2,
                    2,
                    2,
                    2,
                    2,
                    2,
                    2,
                    2,
                    2,
                    1,
                    1,
                    1,
                    1,
                    1,
                    1,
                    1,
                    1,
                    1,
                    1,
                    1,
                    1,
                    1,
                    1,
                    1,
                    1,
                    1,
                    1,
                    1,
                    1,
                    1,
                    1,
                    1,
                    1,
                    1,
                    1,
                    1,
                    1,
                    1,
                    1,
                    1,
                    1,
                    1,
                    1,
                    1,
                    1,
                    1,
                    1,
                    1,
                    1,
                    1,
                    1,
                    1,
                    1,
                    1,
                    1,
                    1,
                    1,
                    1,
                    1,
                    1,
                    1,
                    1,
                    1,
                    1,
                    1,
                    1,
                    1,
                    1,
                    1,
                    1,
                    1,
                    1,
                    1,
                    1,
                    1,
                    1,
                    1,
                    1,
                    1,
                    1,
                    1,
                    1,
                    1,
                    1,
                    1,
                    1,
                    1,
                    1,
                    1,
                    1
                  ],
                  "marker": {
                    "color": "rgba(0, 0, 255, 0.8)",
                    "line": {
                      "color": "rgb(0,0,0)",
                      "width": 1.5
                    }
                  },
                  "x": [
                    "Post Malone",
                    "Ed Sheeran",
                    "Drake",
                    "XXXTENTACION",
                    "Clean Bandit",
                    "Kendrick Lamar",
                    "Imagine Dragons",
                    "Maroon 5",
                    "Calvin Harris",
                    "Khalid",
                    "Marshmello",
                    "The Chainsmokers",
                    "The Weeknd",
                    "Ariana Grande",
                    "Bruno Mars",
                    "Martin Garrix",
                    "Camila Cabello",
                    "DJ Khaled",
                    "Luis Fonsi",
                    "Dua Lipa",
                    "Migos",
                    "ZAYN",
                    "Ozuna",
                    "Lauv",
                    "Travis Scott",
                    "Zedd",
                    "David Guetta",
                    "Selena Gomez",
                    "DJ Snake",
                    "Shawn Mendes",
                    "Sam Smith",
                    "Jonas Blue",
                    "Maluma",
                    "Nicky Jam",
                    "Hailee Steinfeld",
                    "Lil Uzi Vert",
                    "Wolfine",
                    "Niall Horan",
                    "Katy Perry",
                    "Chris Jeday",
                    "Steve Aoki",
                    "Demi Lovato",
                    "Taylor Swift",
                    "Kygo",
                    "Reik",
                    "Anitta",
                    "Maggie Lindemann",
                    "Rita Ora",
                    "Offset",
                    "21 Savage",
                    "Cheat Codes",
                    "French Montana",
                    "Danny Ocean",
                    "Starley",
                    "Alessia Cara",
                    "Nio Garcia",
                    "Eminem",
                    "Rich The Kid",
                    "Sam Hunt",
                    "5 Seconds of Summer",
                    "benny blanco",
                    "Liam Payne",
                    "Bebe Rexha",
                    "Future",
                    "Charlie Puth",
                    "Lil Baby",
                    "Dynoro",
                    "Anne-Marie",
                    "Martin Jensen",
                    "Axwell /\\ Ingrosso",
                    "Daddy Yankee",
                    "Shakira",
                    "Wisin",
                    "The Vamps",
                    "Dennis Lloyd",
                    "Natti Natasha",
                    "Zac Efron",
                    "Logic",
                    "Dean Lewis",
                    "Macklemore",
                    "G-Eazy",
                    "Tyga",
                    "6ix9ine",
                    "AJR",
                    "Big Sean",
                    "Miley Cyrus",
                    "Billie Eilish",
                    "Bazzi",
                    "J Balvin",
                    "KYLE",
                    "Major Lazer",
                    "Loud Luxury",
                    "NF",
                    "Jax Jones",
                    "CNCO",
                    "BlocBoy JB",
                    "Jason Derulo",
                    "Keala Settle",
                    "Julia Michaels",
                    "Cardi B",
                    "Becky G",
                    "Portugal. The Man",
                    "Justin Bieber",
                    "Sofia Reyes",
                    "Piso 21",
                    "Enrique Iglesias",
                    "Halsey",
                    "Zion & Lennox",
                    "Ti?sto",
                    "Harry Styles",
                    "Rudimental",
                    "James Arthur",
                    "Childish Gambino",
                    "Lil Dicky",
                    "Juice WRLD",
                    "Machine Gun Kelly",
                    "Alok"
                  ],
                  "type": "bar",
                  "uid": "513f5887-508d-47c9-9fa8-73b5f8734b05"
                }
              ],
              "config": {
                "responsive": true,
                "plotlyServerURL": "https://plot.ly",
                "linkText": "Export to plot.ly",
                "showLink": false
              },
              "layout": {
                "barmode": "group",
                "yaxis": {
                  "title": {
                    "text": "Number of Tracks per Artist"
                  }
                },
                "title": {
                  "text": "Number of Tracks per Artist in Spotify Top 100 List (2017 + 2018)"
                }
              }
            }
          },
          "metadata": {}
        }
      ]
    },
    {
      "metadata": {
        "trusted": true
      },
      "cell_type": "code",
      "source": "music.describe(include=\"all\")",
      "execution_count": 29,
      "outputs": [
        {
          "output_type": "execute_result",
          "execution_count": 29,
          "data": {
            "text/html": "<div>\n<style scoped>\n    .dataframe tbody tr th:only-of-type {\n        vertical-align: middle;\n    }\n\n    .dataframe tbody tr th {\n        vertical-align: top;\n    }\n\n    .dataframe thead th {\n        text-align: right;\n    }\n</style>\n<table border=\"1\" class=\"dataframe\">\n  <thead>\n    <tr style=\"text-align: right;\">\n      <th></th>\n      <th>id</th>\n      <th>name</th>\n      <th>artists</th>\n      <th>danceability</th>\n      <th>energy</th>\n      <th>key</th>\n      <th>loudness</th>\n      <th>mode</th>\n      <th>speechiness</th>\n      <th>acousticness</th>\n      <th>instrumentalness</th>\n      <th>liveness</th>\n      <th>valence</th>\n      <th>tempo</th>\n      <th>duration_ms</th>\n      <th>time_signature</th>\n    </tr>\n  </thead>\n  <tbody>\n    <tr>\n      <th>count</th>\n      <td>100</td>\n      <td>100</td>\n      <td>100</td>\n      <td>100.00000</td>\n      <td>100.000000</td>\n      <td>100.000000</td>\n      <td>100.000000</td>\n      <td>100.000000</td>\n      <td>100.000000</td>\n      <td>100.000000</td>\n      <td>100.000000</td>\n      <td>100.000000</td>\n      <td>100.000000</td>\n      <td>100.000000</td>\n      <td>100.00000</td>\n      <td>100.00</td>\n    </tr>\n    <tr>\n      <th>unique</th>\n      <td>100</td>\n      <td>100</td>\n      <td>78</td>\n      <td>NaN</td>\n      <td>NaN</td>\n      <td>NaN</td>\n      <td>NaN</td>\n      <td>NaN</td>\n      <td>NaN</td>\n      <td>NaN</td>\n      <td>NaN</td>\n      <td>NaN</td>\n      <td>NaN</td>\n      <td>NaN</td>\n      <td>NaN</td>\n      <td>NaN</td>\n    </tr>\n    <tr>\n      <th>top</th>\n      <td>3AEZUABDXNtecAOSC1qTf</td>\n      <td>Feels</td>\n      <td>Ed Sheeran</td>\n      <td>NaN</td>\n      <td>NaN</td>\n      <td>NaN</td>\n      <td>NaN</td>\n      <td>NaN</td>\n      <td>NaN</td>\n      <td>NaN</td>\n      <td>NaN</td>\n      <td>NaN</td>\n      <td>NaN</td>\n      <td>NaN</td>\n      <td>NaN</td>\n      <td>NaN</td>\n    </tr>\n    <tr>\n      <th>freq</th>\n      <td>1</td>\n      <td>1</td>\n      <td>4</td>\n      <td>NaN</td>\n      <td>NaN</td>\n      <td>NaN</td>\n      <td>NaN</td>\n      <td>NaN</td>\n      <td>NaN</td>\n      <td>NaN</td>\n      <td>NaN</td>\n      <td>NaN</td>\n      <td>NaN</td>\n      <td>NaN</td>\n      <td>NaN</td>\n      <td>NaN</td>\n    </tr>\n    <tr>\n      <th>mean</th>\n      <td>NaN</td>\n      <td>NaN</td>\n      <td>NaN</td>\n      <td>0.69682</td>\n      <td>0.660690</td>\n      <td>5.570000</td>\n      <td>-5.652650</td>\n      <td>0.580000</td>\n      <td>0.103969</td>\n      <td>0.166306</td>\n      <td>0.004796</td>\n      <td>0.150607</td>\n      <td>0.517049</td>\n      <td>119.202460</td>\n      <td>218387.28000</td>\n      <td>3.99</td>\n    </tr>\n    <tr>\n      <th>std</th>\n      <td>NaN</td>\n      <td>NaN</td>\n      <td>NaN</td>\n      <td>0.12508</td>\n      <td>0.139207</td>\n      <td>3.731534</td>\n      <td>1.802067</td>\n      <td>0.496045</td>\n      <td>0.095115</td>\n      <td>0.166730</td>\n      <td>0.026038</td>\n      <td>0.079011</td>\n      <td>0.216436</td>\n      <td>27.952928</td>\n      <td>32851.07772</td>\n      <td>0.10</td>\n    </tr>\n    <tr>\n      <th>min</th>\n      <td>NaN</td>\n      <td>NaN</td>\n      <td>NaN</td>\n      <td>0.25800</td>\n      <td>0.346000</td>\n      <td>0.000000</td>\n      <td>-11.462000</td>\n      <td>0.000000</td>\n      <td>0.023200</td>\n      <td>0.000259</td>\n      <td>0.000000</td>\n      <td>0.042400</td>\n      <td>0.086200</td>\n      <td>75.016000</td>\n      <td>165387.00000</td>\n      <td>3.00</td>\n    </tr>\n    <tr>\n      <th>25%</th>\n      <td>NaN</td>\n      <td>NaN</td>\n      <td>NaN</td>\n      <td>0.63500</td>\n      <td>0.556500</td>\n      <td>2.000000</td>\n      <td>-6.594500</td>\n      <td>0.000000</td>\n      <td>0.043125</td>\n      <td>0.039100</td>\n      <td>0.000000</td>\n      <td>0.098275</td>\n      <td>0.375500</td>\n      <td>99.911750</td>\n      <td>198490.50000</td>\n      <td>4.00</td>\n    </tr>\n    <tr>\n      <th>50%</th>\n      <td>NaN</td>\n      <td>NaN</td>\n      <td>NaN</td>\n      <td>0.71400</td>\n      <td>0.667500</td>\n      <td>6.000000</td>\n      <td>-5.437000</td>\n      <td>1.000000</td>\n      <td>0.062650</td>\n      <td>0.106500</td>\n      <td>0.000000</td>\n      <td>0.125000</td>\n      <td>0.502500</td>\n      <td>112.468000</td>\n      <td>214106.00000</td>\n      <td>4.00</td>\n    </tr>\n    <tr>\n      <th>75%</th>\n      <td>NaN</td>\n      <td>NaN</td>\n      <td>NaN</td>\n      <td>0.77025</td>\n      <td>0.787500</td>\n      <td>9.000000</td>\n      <td>-4.326750</td>\n      <td>1.000000</td>\n      <td>0.123000</td>\n      <td>0.231250</td>\n      <td>0.000013</td>\n      <td>0.179250</td>\n      <td>0.679000</td>\n      <td>137.166000</td>\n      <td>230543.00000</td>\n      <td>4.00</td>\n    </tr>\n    <tr>\n      <th>max</th>\n      <td>NaN</td>\n      <td>NaN</td>\n      <td>NaN</td>\n      <td>0.92700</td>\n      <td>0.932000</td>\n      <td>11.000000</td>\n      <td>-2.396000</td>\n      <td>1.000000</td>\n      <td>0.431000</td>\n      <td>0.695000</td>\n      <td>0.210000</td>\n      <td>0.440000</td>\n      <td>0.966000</td>\n      <td>199.864000</td>\n      <td>343150.00000</td>\n      <td>4.00</td>\n    </tr>\n  </tbody>\n</table>\n</div>",
            "text/plain": "                           id   name     artists  danceability      energy  \\\ncount                     100    100         100     100.00000  100.000000   \nunique                    100    100          78           NaN         NaN   \ntop     3AEZUABDXNtecAOSC1qTf  Feels  Ed Sheeran           NaN         NaN   \nfreq                        1      1           4           NaN         NaN   \nmean                      NaN    NaN         NaN       0.69682    0.660690   \nstd                       NaN    NaN         NaN       0.12508    0.139207   \nmin                       NaN    NaN         NaN       0.25800    0.346000   \n25%                       NaN    NaN         NaN       0.63500    0.556500   \n50%                       NaN    NaN         NaN       0.71400    0.667500   \n75%                       NaN    NaN         NaN       0.77025    0.787500   \nmax                       NaN    NaN         NaN       0.92700    0.932000   \n\n               key    loudness        mode  speechiness  acousticness  \\\ncount   100.000000  100.000000  100.000000   100.000000    100.000000   \nunique         NaN         NaN         NaN          NaN           NaN   \ntop            NaN         NaN         NaN          NaN           NaN   \nfreq           NaN         NaN         NaN          NaN           NaN   \nmean      5.570000   -5.652650    0.580000     0.103969      0.166306   \nstd       3.731534    1.802067    0.496045     0.095115      0.166730   \nmin       0.000000  -11.462000    0.000000     0.023200      0.000259   \n25%       2.000000   -6.594500    0.000000     0.043125      0.039100   \n50%       6.000000   -5.437000    1.000000     0.062650      0.106500   \n75%       9.000000   -4.326750    1.000000     0.123000      0.231250   \nmax      11.000000   -2.396000    1.000000     0.431000      0.695000   \n\n        instrumentalness    liveness     valence       tempo   duration_ms  \\\ncount         100.000000  100.000000  100.000000  100.000000     100.00000   \nunique               NaN         NaN         NaN         NaN           NaN   \ntop                  NaN         NaN         NaN         NaN           NaN   \nfreq                 NaN         NaN         NaN         NaN           NaN   \nmean            0.004796    0.150607    0.517049  119.202460  218387.28000   \nstd             0.026038    0.079011    0.216436   27.952928   32851.07772   \nmin             0.000000    0.042400    0.086200   75.016000  165387.00000   \n25%             0.000000    0.098275    0.375500   99.911750  198490.50000   \n50%             0.000000    0.125000    0.502500  112.468000  214106.00000   \n75%             0.000013    0.179250    0.679000  137.166000  230543.00000   \nmax             0.210000    0.440000    0.966000  199.864000  343150.00000   \n\n        time_signature  \ncount           100.00  \nunique             NaN  \ntop                NaN  \nfreq               NaN  \nmean              3.99  \nstd               0.10  \nmin               3.00  \n25%               4.00  \n50%               4.00  \n75%               4.00  \nmax               4.00  "
          },
          "metadata": {}
        }
      ]
    },
    {
      "metadata": {},
      "cell_type": "markdown",
      "source": "It's time to analyze each of the features in search of the answer to our question: What makes top Spotify songs popular?"
    },
    {
      "metadata": {
        "trusted": true
      },
      "cell_type": "code",
      "source": "#we'll start off by creating two datasets, numeric and small, with some values removed\nnumeric = music.drop(['id','name','artists'], axis=1)\nsmall = numeric.drop(['tempo','duration_ms','key','loudness','time_signature'], axis=1)",
      "execution_count": 30,
      "outputs": []
    },
    {
      "metadata": {
        "trusted": true
      },
      "cell_type": "code",
      "source": "#set color palette to pastel\nsns.set_palette('pastel')\n",
      "execution_count": 33,
      "outputs": []
    },
    {
      "metadata": {
        "trusted": true
      },
      "cell_type": "code",
      "source": "#create a bar chart of the mean values of the audio features in the small dataset\nsmall.mean().plot.bar()\nplt.title('Mean Values of Audio Features')\nplt.show()\n",
      "execution_count": 36,
      "outputs": [
        {
          "output_type": "display_data",
          "data": {
            "image/png": "[encoded data removed]",
            "text/plain": "<Figure size 432x288 with 1 Axes>"
          },
          "metadata": {
            "needs_background": "light"
          }
        }
      ]
    },
    {
      "metadata": {
        "trusted": true
      },
      "cell_type": "code",
      "source": "#mean value and distplot for danceability feature\nprint(\"Mean value for danceability:\", music['danceability'].mean())\nsns.distplot(music['danceability'])\nplt.show()",
      "execution_count": 43,
      "outputs": [
        {
          "output_type": "stream",
          "text": "Mean value for danceability: 0.6968199999999999\n",
          "name": "stdout"
        },
        {
          "output_type": "display_data",
          "data": {
            "image/png": "[encoded data removed]",
            "text/plain": "<Figure size 432x288 with 1 Axes>"
          },
          "metadata": {
            "needs_background": "light"
          }
        }
      ]
    },
    {
      "metadata": {},
      "cell_type": "markdown",
      "source": "With a mean value of 0.697, it's clear that the majority of the top tracks have a high danceability rating.\nConclusion: People like to stream songs they can dance to. I wonder if this says anything about when/where people stream songs? (Parties etc.?)"
    },
    {
      "metadata": {
        "trusted": true
      },
      "cell_type": "code",
      "source": "#mean value and distplot for energy feature\nprint(\"Mean value for energy:\", music['energy'].mean())\nsns.distplot(music['energy'])\nplt.show()",
      "execution_count": 38,
      "outputs": [
        {
          "output_type": "stream",
          "text": "Mean value for energy: 0.6606899999999999\n",
          "name": "stdout"
        },
        {
          "output_type": "display_data",
          "data": {
            "image/png": "[encoded data removed]",
            "text/plain": "<Figure size 432x288 with 1 Axes>"
          },
          "metadata": {
            "needs_background": "light"
          }
        }
      ]
    },
    {
      "metadata": {},
      "cell_type": "markdown",
      "source": "Again, people seem like energetic songs more than calm ones (mean of 0.661), although this feature seems to be a bit more evenly distributed than danceability.\nConclusion: People like energetic songs. I wonder what the ages of Spotify users are?"
    },
    {
      "metadata": {
        "trusted": true
      },
      "cell_type": "code",
      "source": "#mean value and distplot for loudness feature\nprint(\"Mean value for loudness:\", music['loudness'].mean())\nsns.distplot(music['loudness'])\nplt.show()",
      "execution_count": 39,
      "outputs": [
        {
          "output_type": "stream",
          "text": "Mean value for loudness: -5.652649999999998\n",
          "name": "stdout"
        },
        {
          "output_type": "display_data",
          "data": {
            "image/png": "[encoded data removed]",
            "text/plain": "<Figure size 432x288 with 1 Axes>"
          },
          "metadata": {
            "needs_background": "light"
          }
        }
      ]
    },
    {
      "metadata": {},
      "cell_type": "markdown",
      "source": "So the mean value for loudness is -5.653. I'm still kind of confused on how to interpret this (Why are the values negative? Does a more negative value mean less loud or more loud?). If anybody has some insight, it would be greatly appreciated!\nConclusion: ??"
    },
    {
      "metadata": {
        "trusted": true
      },
      "cell_type": "code",
      "source": "#mean value and distplot for instrumentalness feature\nprint(\"Mean value for instrumentalness:\", music['instrumentalness'].mean())\nsns.distplot(music['instrumentalness'])\nplt.show()",
      "execution_count": 40,
      "outputs": [
        {
          "output_type": "stream",
          "text": "Mean value for instrumentalness: 0.0047961442\n",
          "name": "stdout"
        },
        {
          "output_type": "display_data",
          "data": {
            "image/png": "[encoded data removed]",
            "text/plain": "<Figure size 432x288 with 1 Axes>"
          },
          "metadata": {
            "needs_background": "light"
          }
        }
      ]
    },
    {
      "metadata": {},
      "cell_type": "markdown",
      "source": "The mean value for instrumentalness is really, really low at 0.00479.\nConclusion: People like songs that have lyrics."
    },
    {
      "metadata": {
        "trusted": true
      },
      "cell_type": "code",
      "source": "#mean value and distplot for tempo feature\nprint('Mean value for tempo feature:', music['tempo'].mean())\nsns.distplot(music['tempo'])\nplt.show()",
      "execution_count": 41,
      "outputs": [
        {
          "output_type": "stream",
          "text": "Mean value for tempo feature: 119.20245999999996\n",
          "name": "stdout"
        },
        {
          "output_type": "display_data",
          "data": {
            "image/png": "[encoded data removed]",
            "text/plain": "<Figure size 432x288 with 1 Axes>"
          },
          "metadata": {
            "needs_background": "light"
          }
        }
      ]
    },
    {
      "metadata": {},
      "cell_type": "markdown",
      "source": "The mean value for tempo is 119.202 bpm, which is actually pretty fast.\nConclusion: People like fast songs more than slow ones."
    },
    {
      "metadata": {
        "trusted": true
      },
      "cell_type": "code",
      "source": "#mean value and distplot for duration_ms feature\nprint('Mean value for duration_ms feature:', music['duration_ms'].mean())\nsns.distplot(music['duration_ms'])\nplt.show()",
      "execution_count": 42,
      "outputs": [
        {
          "output_type": "stream",
          "text": "Mean value for duration_ms feature: 218387.28\n",
          "name": "stdout"
        },
        {
          "output_type": "display_data",
          "data": {
            "image/png": "[encoded data removed]",
            "text/plain": "<Figure size 432x288 with 1 Axes>"
          },
          "metadata": {
            "needs_background": "light"
          }
        }
      ]
    },
    {
      "metadata": {},
      "cell_type": "markdown",
      "source": "The mean value for duration is 218387 milliseconds, which is around 3 minutes and 38 seconds.\nConclusion: People don't like it when songs are too short or too long. "
    },
    {
      "metadata": {
        "trusted": true
      },
      "cell_type": "code",
      "source": "",
      "execution_count": null,
      "outputs": []
    }
  ],
  "metadata": {
    "kernelspec": {
      "name": "python36",
      "display_name": "Python 3.6",
      "language": "python"
    }
  },
  "nbformat": 4,
  "nbformat_minor": 2
}